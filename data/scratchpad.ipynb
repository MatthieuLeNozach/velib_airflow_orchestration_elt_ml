{
 "cells": [
  {
   "cell_type": "code",
   "execution_count": 2,
   "metadata": {},
   "outputs": [
    {
     "name": "stdout",
     "output_type": "stream",
     "text": [
      "/home/mln/GIT/0_EXPLORE/github/astronomer-codespaces-test/data\n"
     ]
    }
   ],
   "source": [
    "!pwd"
   ]
  },
  {
   "cell_type": "code",
   "execution_count": 10,
   "metadata": {},
   "outputs": [
    {
     "name": "stdout",
     "output_type": "stream",
     "text": [
      "<class 'pandas.core.frame.DataFrame'>\n",
      "RangeIndex: 863464 entries, 0 to 863463\n",
      "Data columns (total 16 columns):\n",
      " #   Column                       Non-Null Count   Dtype                                \n",
      "---  ------                       --------------   -----                                \n",
      " 0   id                           0 non-null       float64                              \n",
      " 1   record_timestamp             863464 non-null  datetime64[us, pytz.FixedOffset(120)]\n",
      " 2   stationcode                  863464 non-null  object                               \n",
      " 3   ebike                        863464 non-null  int64                                \n",
      " 4   mechanical                   863464 non-null  int64                                \n",
      " 5   duedate                      863464 non-null  object                               \n",
      " 6   numbikesavailable            863464 non-null  int64                                \n",
      " 7   numdocksavailable            863464 non-null  int64                                \n",
      " 8   capacity                     863464 non-null  int64                                \n",
      " 9   is_renting                   863464 non-null  object                               \n",
      " 10  is_installed                 863464 non-null  object                               \n",
      " 11  is_returning                 863464 non-null  object                               \n",
      " 12  name                         859950 non-null  object                               \n",
      " 13  latitude                     859950 non-null  float64                              \n",
      " 14  longitude                    859950 non-null  float64                              \n",
      " 15  nom_arrondissement_communes  859950 non-null  object                               \n",
      "dtypes: datetime64[us, pytz.FixedOffset(120)](1), float64(3), int64(5), object(7)\n",
      "memory usage: 105.4+ MB\n"
     ]
    }
   ],
   "source": [
    "import pandas as pd\n",
    "\n",
    "\n",
    "df = pd.read_parquet('2024-06-04.parquet')\n",
    "df.info()"
   ]
  },
  {
   "cell_type": "code",
   "execution_count": 24,
   "metadata": {},
   "outputs": [
    {
     "data": {
      "text/plain": [
       "┌─────────┬──────────────────────┬─────────────┬───┬──────────────────────┬────────────────────┬────────────────────┐\n",
       "│   id    │   record_timestamp   │ stationcode │ … │         name         │      latitude      │     longitude      │\n",
       "│ double  │ timestamp with tim…  │   varchar   │   │       varchar        │       double       │       double       │\n",
       "├─────────┼──────────────────────┼─────────────┼───┼──────────────────────┼────────────────────┼────────────────────┤\n",
       "│  1268.0 │ 2024-06-02 20:37:0…  │ 10001       │ … │ René Boulanger - L…  │         48.8685433 │          2.3600032 │\n",
       "│  1267.0 │ 2024-06-02 20:37:0…  │ 10001       │ … │ René Boulanger - L…  │         48.8685433 │          2.3600032 │\n",
       "│  1141.0 │ 2024-06-02 20:37:0…  │ 10001       │ … │ René Boulanger - L…  │         48.8685433 │          2.3600032 │\n",
       "│  1142.0 │ 2024-06-02 20:37:0…  │ 10001       │ … │ René Boulanger - L…  │         48.8685433 │          2.3600032 │\n",
       "│  2539.0 │ 2024-06-02 20:37:0…  │ 10004       │ … │ Metz - Faubourg Sa…  │          48.870893 │           2.353521 │\n",
       "│  2534.0 │ 2024-06-02 20:37:0…  │ 10004       │ … │ Metz - Faubourg Sa…  │          48.870893 │           2.353521 │\n",
       "│  2004.0 │ 2024-06-02 20:37:0…  │ 10005       │ … │ Petites Ecuries - …  │  48.87397217237368 │  2.348388757504776 │\n",
       "│  2003.0 │ 2024-06-02 20:37:0…  │ 10005       │ … │ Petites Ecuries - …  │  48.87397217237368 │  2.348388757504776 │\n",
       "│  3012.0 │ 2024-06-02 20:37:0…  │ 10006       │ … │ Petites Ecuries - …  │  48.87287120589831 │ 2.3542150855064397 │\n",
       "│  3016.0 │ 2024-06-02 20:37:0…  │ 10006       │ … │ Petites Ecuries - …  │  48.87287120589831 │ 2.3542150855064397 │\n",
       "│     ·   │          ·           │  ·          │ · │          ·           │          ·         │          ·         │\n",
       "│     ·   │          ·           │  ·          │ · │          ·           │          ·         │          ·         │\n",
       "│     ·   │          ·           │  ·          │ · │          ·           │          ·         │          ·         │\n",
       "│ 11693.0 │ 2024-06-02 20:47:0…  │ 8044        │ … │ Alfred de Vigny - …  │  48.87836138361425 │  2.305254448220567 │\n",
       "│ 10382.0 │ 2024-06-02 20:47:0…  │ 8045        │ … │ Place de la Reine …  │    48.864920982538 │    2.3025491823859 │\n",
       "│ 10912.0 │ 2024-06-02 20:47:0…  │ 8046        │ … │ Marceau - Présiden…  │         48.8652359 │          2.3002513 │\n",
       "│ 11030.0 │ 2024-06-02 20:47:0…  │ 8048        │ … │ Marceau - Chaillot   │    48.868834023334 │    2.2986030816809 │\n",
       "│ 11318.0 │ 2024-06-02 20:47:0…  │ 8049        │ … │ Georges V - Franço…  │           48.87034 │            2.30082 │\n",
       "│ 10319.0 │ 2024-06-02 20:47:0…  │ 8050        │ … │ Boétie - Ponthieu    │    48.871417284355 │    2.3076787590981 │\n",
       "│ 11233.0 │ 2024-06-02 20:47:0…  │ 8051        │ … │ Batignolles - Rome   │ 48.881823370566806 │ 2.3202589899301524 │\n",
       "│ 11035.0 │ 2024-06-02 20:47:0…  │ 8053        │ … │ Place Georges Guil…  │    48.874750203957 │     2.301771435326 │\n",
       "│ 11090.0 │ 2024-06-02 20:47:0…  │ 8054        │ … │ Bertie Albrecht - …  │  48.87614039826388 │  2.301303138307601 │\n",
       "│ 10470.0 │ 2024-06-02 20:47:0…  │ 8055        │ … │ Courcelles - Place…  │ 48.878199928923124 │ 2.2992860188665043 │\n",
       "├─────────┴──────────────────────┴─────────────┴───┴──────────────────────┴────────────────────┴────────────────────┤\n",
       "│ ? rows (>9999 rows, 20 shown)                                                                15 columns (6 shown) │\n",
       "└───────────────────────────────────────────────────────────────────────────────────────────────────────────────────┘"
      ]
     },
     "execution_count": 24,
     "metadata": {},
     "output_type": "execute_result"
    }
   ],
   "source": []
  },
  {
   "cell_type": "code",
   "execution_count": 2,
   "metadata": {},
   "outputs": [
    {
     "data": {
      "text/plain": [
       "<duckdb.duckdb.DuckDBPyConnection at 0x7d34780e08b0>"
      ]
     },
     "execution_count": 2,
     "metadata": {},
     "output_type": "execute_result"
    }
   ],
   "source": [
    "import pandas as pd\n",
    "import duckdb\n",
    "\n",
    "file_path = \"merged_data.parquet\"\n",
    "\n",
    "df = duckdb.read_parquet(file_path) \n",
    "df.df().info()"
   ]
  },
  {
   "cell_type": "code",
   "execution_count": 1,
   "metadata": {},
   "outputs": [
    {
     "data": {
      "text/plain": [
       "<duckdb.duckdb.DuckDBPyConnection at 0x7c9cceefc330>"
      ]
     },
     "execution_count": 1,
     "metadata": {},
     "output_type": "execute_result"
    }
   ],
   "source": [
    "import pandas as pd\n",
    "import duckdb\n",
    "\n",
    "# Start an in-memory DuckDB database\n",
    "con = duckdb.connect()\n",
    "\n",
    "# Path to your Parquet file\n",
    "file_path = \"merged_data.parquet\"\n",
    "\n",
    "# Load the Parquet file into a DuckDB table\n",
    "con.execute(\n",
    "    f\"\"\"\n",
    "    CREATE TABLE velib_global AS \n",
    "        SELECT record_timestamp, stationcode, numbikesavailable, mechanical, ebike\n",
    "        FROM read_parquet('{file_path}')\n",
    "    \"\"\"\n",
    ")\n",
    "\n"
   ]
  },
  {
   "cell_type": "code",
   "execution_count": 3,
   "metadata": {},
   "outputs": [
    {
     "ename": "CatalogException",
     "evalue": "Catalog Error: Table with name velib_global does not exist!\nDid you mean \"pg_am\"?",
     "output_type": "error",
     "traceback": [
      "\u001b[0;31m---------------------------------------------------------------------------\u001b[0m",
      "\u001b[0;31mCatalogException\u001b[0m                          Traceback (most recent call last)",
      "Cell \u001b[0;32mIn[3], line 1\u001b[0m\n\u001b[0;32m----> 1\u001b[0m \u001b[43mduckdb\u001b[49m\u001b[38;5;241;43m.\u001b[39;49m\u001b[43msql\u001b[49m\u001b[43m(\u001b[49m\u001b[38;5;124;43m\"\u001b[39;49m\u001b[38;5;124;43mSELECT * FROM velib_global\u001b[39;49m\u001b[38;5;124;43m\"\u001b[39;49m\u001b[43m)\u001b[49m\u001b[38;5;241m.\u001b[39mdf()\u001b[38;5;241m.\u001b[39minfo()\n",
      "File \u001b[0;32m~/.cache/pypoetry/virtualenvs/astronomer-codespaces-test-2e7RZVmm-py3.10/lib/python3.10/site-packages/duckdb/__init__.py:457\u001b[0m, in \u001b[0;36msql\u001b[0;34m(query, **kwargs)\u001b[0m\n\u001b[1;32m    455\u001b[0m \u001b[38;5;28;01melse\u001b[39;00m:\n\u001b[1;32m    456\u001b[0m     conn \u001b[38;5;241m=\u001b[39m duckdb\u001b[38;5;241m.\u001b[39mconnect(\u001b[38;5;124m\"\u001b[39m\u001b[38;5;124m:default:\u001b[39m\u001b[38;5;124m\"\u001b[39m)\n\u001b[0;32m--> 457\u001b[0m \u001b[38;5;28;01mreturn\u001b[39;00m \u001b[43mconn\u001b[49m\u001b[38;5;241;43m.\u001b[39;49m\u001b[43msql\u001b[49m\u001b[43m(\u001b[49m\u001b[43mquery\u001b[49m\u001b[43m,\u001b[49m\u001b[43m \u001b[49m\u001b[38;5;241;43m*\u001b[39;49m\u001b[38;5;241;43m*\u001b[39;49m\u001b[43mkwargs\u001b[49m\u001b[43m)\u001b[49m\n",
      "\u001b[0;31mCatalogException\u001b[0m: Catalog Error: Table with name velib_global does not exist!\nDid you mean \"pg_am\"?"
     ]
    }
   ],
   "source": [
    "con.execute(\"SELECT * FROM velib_global\").df().info()\n"
   ]
  },
  {
   "cell_type": "code",
   "execution_count": 10,
   "metadata": {},
   "outputs": [
    {
     "name": "stdout",
     "output_type": "stream",
     "text": [
      "Using version \u001b[39;1m^3.9.1\u001b[39;22m for \u001b[36mmatplotlib\u001b[39m\n",
      "\n",
      "\u001b[34mUpdating dependencies\u001b[39m\n",
      "\u001b[2K\u001b[34mResolving dependencies...\u001b[39m \u001b[39;2m(0.6s)\u001b[39;22m\n",
      "\n",
      "\u001b[39;1mPackage operations\u001b[39;22m: \u001b[34m7\u001b[39m installs, \u001b[34m0\u001b[39m updates, \u001b[34m0\u001b[39m removals\n",
      "\n",
      "  \u001b[34;1m-\u001b[39;22m \u001b[39mInstalling \u001b[39m\u001b[36mcontourpy\u001b[39m\u001b[39m (\u001b[39m\u001b[39;1m1.2.1\u001b[39;22m\u001b[39m)\u001b[39m: \u001b[34mPending...\u001b[39m\n",
      "  \u001b[34;1m-\u001b[39;22m \u001b[39mInstalling \u001b[39m\u001b[36mcycler\u001b[39m\u001b[39m (\u001b[39m\u001b[39;1m0.12.1\u001b[39;22m\u001b[39m)\u001b[39m: \u001b[34mPending...\u001b[39m\n",
      "  \u001b[34;1m-\u001b[39;22m \u001b[39mInstalling \u001b[39m\u001b[36mfonttools\u001b[39m\u001b[39m (\u001b[39m\u001b[39;1m4.53.1\u001b[39;22m\u001b[39m)\u001b[39m: \u001b[34mPending...\u001b[39m\n",
      "  \u001b[34;1m-\u001b[39;22m \u001b[39mInstalling \u001b[39m\u001b[36mkiwisolver\u001b[39m\u001b[39m (\u001b[39m\u001b[39;1m1.4.5\u001b[39;22m\u001b[39m)\u001b[39m: \u001b[34mPending...\u001b[39m\n",
      "  \u001b[34;1m-\u001b[39;22m \u001b[39mInstalling \u001b[39m\u001b[36mpillow\u001b[39m\u001b[39m (\u001b[39m\u001b[39;1m10.4.0\u001b[39;22m\u001b[39m)\u001b[39m: \u001b[34mPending...\u001b[39m\n",
      "  \u001b[34;1m-\u001b[39;22m \u001b[39mInstalling \u001b[39m\u001b[36mpyparsing\u001b[39m\u001b[39m (\u001b[39m\u001b[39;1m3.1.2\u001b[39;22m\u001b[39m)\u001b[39m: \u001b[34mPending...\u001b[39m\n",
      "\u001b[2A\u001b[0J  \u001b[34;1m-\u001b[39;22m \u001b[39mInstalling \u001b[39m\u001b[36mpyparsing\u001b[39m\u001b[39m (\u001b[39m\u001b[39;1m3.1.2\u001b[39;22m\u001b[39m)\u001b[39m: \u001b[34mPending...\u001b[39m\n",
      "\u001b[1A\u001b[0J  \u001b[34;1m-\u001b[39;22m \u001b[39mInstalling \u001b[39m\u001b[36mpillow\u001b[39m\u001b[39m (\u001b[39m\u001b[39;1m10.4.0\u001b[39;22m\u001b[39m)\u001b[39m: \u001b[34mDownloading...\u001b[39m \u001b[39;1m0%\u001b[39;22m\n",
      "  \u001b[34;1m-\u001b[39;22m \u001b[39mInstalling \u001b[39m\u001b[36mpyparsing\u001b[39m\u001b[39m (\u001b[39m\u001b[39;1m3.1.2\u001b[39;22m\u001b[39m)\u001b[39m: \u001b[34mPending...\u001b[39m\n",
      "\u001b[5A\u001b[0J  \u001b[34;1m-\u001b[39;22m \u001b[39mInstalling \u001b[39m\u001b[36mfonttools\u001b[39m\u001b[39m (\u001b[39m\u001b[39;1m4.53.1\u001b[39;22m\u001b[39m)\u001b[39m: \u001b[34mPending...\u001b[39m\n",
      "  \u001b[34;1m-\u001b[39;22m \u001b[39mInstalling \u001b[39m\u001b[36mkiwisolver\u001b[39m\u001b[39m (\u001b[39m\u001b[39;1m1.4.5\u001b[39;22m\u001b[39m)\u001b[39m: \u001b[34mPending...\u001b[39m\n",
      "  \u001b[34;1m-\u001b[39;22m \u001b[39mInstalling \u001b[39m\u001b[36mpillow\u001b[39m\u001b[39m (\u001b[39m\u001b[39;1m10.4.0\u001b[39;22m\u001b[39m)\u001b[39m: \u001b[34mDownloading...\u001b[39m \u001b[39;1m0%\u001b[39;22m\n",
      "  \u001b[34;1m-\u001b[39;22m \u001b[39mInstalling \u001b[39m\u001b[36mpyparsing\u001b[39m\u001b[39m (\u001b[39m\u001b[39;1m3.1.2\u001b[39;22m\u001b[39m)\u001b[39m: \u001b[34mPending...\u001b[39m\n",
      "\u001b[4A\u001b[0J  \u001b[34;1m-\u001b[39;22m \u001b[39mInstalling \u001b[39m\u001b[36mcycler\u001b[39m\u001b[39m (\u001b[39m\u001b[39;1m0.12.1\u001b[39;22m\u001b[39m)\u001b[39m: \u001b[34mDownloading...\u001b[39m \u001b[39;1m0%\u001b[39;22m\n",
      "  \u001b[34;1m-\u001b[39;22m \u001b[39mInstalling \u001b[39m\u001b[36mfonttools\u001b[39m\u001b[39m (\u001b[39m\u001b[39;1m4.53.1\u001b[39;22m\u001b[39m)\u001b[39m: \u001b[34mPending...\u001b[39m\n",
      "  \u001b[34;1m-\u001b[39;22m \u001b[39mInstalling \u001b[39m\u001b[36mkiwisolver\u001b[39m\u001b[39m (\u001b[39m\u001b[39;1m1.4.5\u001b[39;22m\u001b[39m)\u001b[39m: \u001b[34mPending...\u001b[39m\n",
      "  \u001b[34;1m-\u001b[39;22m \u001b[39mInstalling \u001b[39m\u001b[36mpillow\u001b[39m\u001b[39m (\u001b[39m\u001b[39;1m10.4.0\u001b[39;22m\u001b[39m)\u001b[39m: \u001b[34mDownloading...\u001b[39m \u001b[39;1m0%\u001b[39;22m\n",
      "  \u001b[34;1m-\u001b[39;22m \u001b[39mInstalling \u001b[39m\u001b[36mpyparsing\u001b[39m\u001b[39m (\u001b[39m\u001b[39;1m3.1.2\u001b[39;22m\u001b[39m)\u001b[39m: \u001b[34mPending...\u001b[39m\n",
      "\u001b[1A\u001b[0J  \u001b[34;1m-\u001b[39;22m \u001b[39mInstalling \u001b[39m\u001b[36mpyparsing\u001b[39m\u001b[39m (\u001b[39m\u001b[39;1m3.1.2\u001b[39;22m\u001b[39m)\u001b[39m: \u001b[34mDownloading...\u001b[39m \u001b[39;1m0%\u001b[39;22m\n",
      "\u001b[6A\u001b[0J  \u001b[34;1m-\u001b[39;22m \u001b[39mInstalling \u001b[39m\u001b[36mcycler\u001b[39m\u001b[39m (\u001b[39m\u001b[39;1m0.12.1\u001b[39;22m\u001b[39m)\u001b[39m: \u001b[34mDownloading...\u001b[39m \u001b[39;1m0%\u001b[39;22m\n",
      "  \u001b[34;1m-\u001b[39;22m \u001b[39mInstalling \u001b[39m\u001b[36mfonttools\u001b[39m\u001b[39m (\u001b[39m\u001b[39;1m4.53.1\u001b[39;22m\u001b[39m)\u001b[39m: \u001b[34mPending...\u001b[39m\n",
      "  \u001b[34;1m-\u001b[39;22m \u001b[39mInstalling \u001b[39m\u001b[36mkiwisolver\u001b[39m\u001b[39m (\u001b[39m\u001b[39;1m1.4.5\u001b[39;22m\u001b[39m)\u001b[39m: \u001b[34mPending...\u001b[39m\n",
      "  \u001b[34;1m-\u001b[39;22m \u001b[39mInstalling \u001b[39m\u001b[36mpillow\u001b[39m\u001b[39m (\u001b[39m\u001b[39;1m10.4.0\u001b[39;22m\u001b[39m)\u001b[39m: \u001b[34mDownloading...\u001b[39m \u001b[39;1m0%\u001b[39;22m\n",
      "  \u001b[34;1m-\u001b[39;22m \u001b[39mInstalling \u001b[39m\u001b[36mpyparsing\u001b[39m\u001b[39m (\u001b[39m\u001b[39;1m3.1.2\u001b[39;22m\u001b[39m)\u001b[39m: \u001b[34mDownloading...\u001b[39m \u001b[39;1m0%\u001b[39;22m\n",
      "\u001b[5A\u001b[0J  \u001b[34;1m-\u001b[39;22m \u001b[39mInstalling \u001b[39m\u001b[36mcontourpy\u001b[39m\u001b[39m (\u001b[39m\u001b[39;1m1.2.1\u001b[39;22m\u001b[39m)\u001b[39m: \u001b[34mDownloading...\u001b[39m \u001b[39;1m0%\u001b[39;22m\n",
      "  \u001b[34;1m-\u001b[39;22m \u001b[39mInstalling \u001b[39m\u001b[36mcycler\u001b[39m\u001b[39m (\u001b[39m\u001b[39;1m0.12.1\u001b[39;22m\u001b[39m)\u001b[39m: \u001b[34mDownloading...\u001b[39m \u001b[39;1m0%\u001b[39;22m\n",
      "  \u001b[34;1m-\u001b[39;22m \u001b[39mInstalling \u001b[39m\u001b[36mfonttools\u001b[39m\u001b[39m (\u001b[39m\u001b[39;1m4.53.1\u001b[39;22m\u001b[39m)\u001b[39m: \u001b[34mPending...\u001b[39m\n",
      "  \u001b[34;1m-\u001b[39;22m \u001b[39mInstalling \u001b[39m\u001b[36mkiwisolver\u001b[39m\u001b[39m (\u001b[39m\u001b[39;1m1.4.5\u001b[39;22m\u001b[39m)\u001b[39m: \u001b[34mPending...\u001b[39m\n",
      "  \u001b[34;1m-\u001b[39;22m \u001b[39mInstalling \u001b[39m\u001b[36mpillow\u001b[39m\u001b[39m (\u001b[39m\u001b[39;1m10.4.0\u001b[39;22m\u001b[39m)\u001b[39m: \u001b[34mDownloading...\u001b[39m \u001b[39;1m0%\u001b[39;22m\n",
      "  \u001b[34;1m-\u001b[39;22m \u001b[39mInstalling \u001b[39m\u001b[36mpyparsing\u001b[39m\u001b[39m (\u001b[39m\u001b[39;1m3.1.2\u001b[39;22m\u001b[39m)\u001b[39m: \u001b[34mDownloading...\u001b[39m \u001b[39;1m0%\u001b[39;22m\n",
      "\u001b[3A\u001b[0J  \u001b[34;1m-\u001b[39;22m \u001b[39mInstalling \u001b[39m\u001b[36mpillow\u001b[39m\u001b[39m (\u001b[39m\u001b[39;1m10.4.0\u001b[39;22m\u001b[39m)\u001b[39m: \u001b[34mDownloading...\u001b[39m \u001b[39;1m0%\u001b[39;22m\n",
      "  \u001b[34;1m-\u001b[39;22m \u001b[39mInstalling \u001b[39m\u001b[36mpyparsing\u001b[39m\u001b[39m (\u001b[39m\u001b[39;1m3.1.2\u001b[39;22m\u001b[39m)\u001b[39m: \u001b[34mDownloading...\u001b[39m \u001b[39;1m0%\u001b[39;22m\n",
      "\u001b[2A\u001b[0J  \u001b[34;1m-\u001b[39;22m \u001b[39mInstalling \u001b[39m\u001b[36mkiwisolver\u001b[39m\u001b[39m (\u001b[39m\u001b[39;1m1.4.5\u001b[39;22m\u001b[39m)\u001b[39m: \u001b[34mDownloading...\u001b[39m \u001b[39;1m0%\u001b[39;22m\n",
      "  \u001b[34;1m-\u001b[39;22m \u001b[39mInstalling \u001b[39m\u001b[36mpillow\u001b[39m\u001b[39m (\u001b[39m\u001b[39;1m10.4.0\u001b[39;22m\u001b[39m)\u001b[39m: \u001b[34mDownloading...\u001b[39m \u001b[39;1m0%\u001b[39;22m\n",
      "  \u001b[34;1m-\u001b[39;22m \u001b[39mInstalling \u001b[39m\u001b[36mpyparsing\u001b[39m\u001b[39m (\u001b[39m\u001b[39;1m3.1.2\u001b[39;22m\u001b[39m)\u001b[39m: \u001b[34mDownloading...\u001b[39m \u001b[39;1m0%\u001b[39;22m\n",
      "\u001b[4A\u001b[0J  \u001b[34;1m-\u001b[39;22m \u001b[39mInstalling \u001b[39m\u001b[36mkiwisolver\u001b[39m\u001b[39m (\u001b[39m\u001b[39;1m1.4.5\u001b[39;22m\u001b[39m)\u001b[39m: \u001b[34mDownloading...\u001b[39m \u001b[39;1m0%\u001b[39;22m\n",
      "  \u001b[34;1m-\u001b[39;22m \u001b[39mInstalling \u001b[39m\u001b[36mpillow\u001b[39m\u001b[39m (\u001b[39m\u001b[39;1m10.4.0\u001b[39;22m\u001b[39m)\u001b[39m: \u001b[34mDownloading...\u001b[39m \u001b[39;1m0%\u001b[39;22m\n",
      "  \u001b[34;1m-\u001b[39;22m \u001b[39mInstalling \u001b[39m\u001b[36mpyparsing\u001b[39m\u001b[39m (\u001b[39m\u001b[39;1m3.1.2\u001b[39;22m\u001b[39m)\u001b[39m: \u001b[34mDownloading...\u001b[39m \u001b[39;1m0%\u001b[39;22m\n",
      "\u001b[3A\u001b[0J  \u001b[34;1m-\u001b[39;22m \u001b[39mInstalling \u001b[39m\u001b[36mfonttools\u001b[39m\u001b[39m (\u001b[39m\u001b[39;1m4.53.1\u001b[39;22m\u001b[39m)\u001b[39m: \u001b[34mDownloading...\u001b[39m \u001b[39;1m0%\u001b[39;22m\n",
      "  \u001b[34;1m-\u001b[39;22m \u001b[39mInstalling \u001b[39m\u001b[36mkiwisolver\u001b[39m\u001b[39m (\u001b[39m\u001b[39;1m1.4.5\u001b[39;22m\u001b[39m)\u001b[39m: \u001b[34mDownloading...\u001b[39m \u001b[39;1m0%\u001b[39;22m\n",
      "  \u001b[34;1m-\u001b[39;22m \u001b[39mInstalling \u001b[39m\u001b[36mpillow\u001b[39m\u001b[39m (\u001b[39m\u001b[39;1m10.4.0\u001b[39;22m\u001b[39m)\u001b[39m: \u001b[34mDownloading...\u001b[39m \u001b[39;1m0%\u001b[39;22m\n",
      "  \u001b[34;1m-\u001b[39;22m \u001b[39mInstalling \u001b[39m\u001b[36mpyparsing\u001b[39m\u001b[39m (\u001b[39m\u001b[39;1m3.1.2\u001b[39;22m\u001b[39m)\u001b[39m: \u001b[34mDownloading...\u001b[39m \u001b[39;1m0%\u001b[39;22m\n",
      "\u001b[5A\u001b[0J  \u001b[34;1m-\u001b[39;22m \u001b[39mInstalling \u001b[39m\u001b[36mfonttools\u001b[39m\u001b[39m (\u001b[39m\u001b[39;1m4.53.1\u001b[39;22m\u001b[39m)\u001b[39m: \u001b[34mDownloading...\u001b[39m \u001b[39;1m0%\u001b[39;22m\n",
      "  \u001b[34;1m-\u001b[39;22m \u001b[39mInstalling \u001b[39m\u001b[36mkiwisolver\u001b[39m\u001b[39m (\u001b[39m\u001b[39;1m1.4.5\u001b[39;22m\u001b[39m)\u001b[39m: \u001b[34mDownloading...\u001b[39m \u001b[39;1m0%\u001b[39;22m\n",
      "  \u001b[34;1m-\u001b[39;22m \u001b[39mInstalling \u001b[39m\u001b[36mpillow\u001b[39m\u001b[39m (\u001b[39m\u001b[39;1m10.4.0\u001b[39;22m\u001b[39m)\u001b[39m: \u001b[34mDownloading...\u001b[39m \u001b[39;1m0%\u001b[39;22m\n",
      "  \u001b[34;1m-\u001b[39;22m \u001b[39mInstalling \u001b[39m\u001b[36mpyparsing\u001b[39m\u001b[39m (\u001b[39m\u001b[39;1m3.1.2\u001b[39;22m\u001b[39m)\u001b[39m: \u001b[34mDownloading...\u001b[39m \u001b[39;1m0%\u001b[39;22m\n",
      "\u001b[4A\u001b[0J  \u001b[34;1m-\u001b[39;22m \u001b[39mInstalling \u001b[39m\u001b[36mcycler\u001b[39m\u001b[39m (\u001b[39m\u001b[39;1m0.12.1\u001b[39;22m\u001b[39m)\u001b[39m: \u001b[34mDownloading...\u001b[39m \u001b[39;1m100%\u001b[39;22m\n",
      "  \u001b[34;1m-\u001b[39;22m \u001b[39mInstalling \u001b[39m\u001b[36mfonttools\u001b[39m\u001b[39m (\u001b[39m\u001b[39;1m4.53.1\u001b[39;22m\u001b[39m)\u001b[39m: \u001b[34mDownloading...\u001b[39m \u001b[39;1m0%\u001b[39;22m\n",
      "  \u001b[34;1m-\u001b[39;22m \u001b[39mInstalling \u001b[39m\u001b[36mkiwisolver\u001b[39m\u001b[39m (\u001b[39m\u001b[39;1m1.4.5\u001b[39;22m\u001b[39m)\u001b[39m: \u001b[34mDownloading...\u001b[39m \u001b[39;1m0%\u001b[39;22m\n",
      "  \u001b[34;1m-\u001b[39;22m \u001b[39mInstalling \u001b[39m\u001b[36mpillow\u001b[39m\u001b[39m (\u001b[39m\u001b[39;1m10.4.0\u001b[39;22m\u001b[39m)\u001b[39m: \u001b[34mDownloading...\u001b[39m \u001b[39;1m0%\u001b[39;22m\n",
      "  \u001b[34;1m-\u001b[39;22m \u001b[39mInstalling \u001b[39m\u001b[36mpyparsing\u001b[39m\u001b[39m (\u001b[39m\u001b[39;1m3.1.2\u001b[39;22m\u001b[39m)\u001b[39m: \u001b[34mDownloading...\u001b[39m \u001b[39;1m0%\u001b[39;22m\n",
      "\u001b[5A\u001b[0J  \u001b[34;1m-\u001b[39;22m \u001b[39mInstalling \u001b[39m\u001b[36mfonttools\u001b[39m\u001b[39m (\u001b[39m\u001b[39;1m4.53.1\u001b[39;22m\u001b[39m)\u001b[39m: \u001b[34mDownloading...\u001b[39m \u001b[39;1m0%\u001b[39;22m\n",
      "  \u001b[34;1m-\u001b[39;22m \u001b[39mInstalling \u001b[39m\u001b[36mkiwisolver\u001b[39m\u001b[39m (\u001b[39m\u001b[39;1m1.4.5\u001b[39;22m\u001b[39m)\u001b[39m: \u001b[34mDownloading...\u001b[39m \u001b[39;1m0%\u001b[39;22m\n",
      "  \u001b[34;1m-\u001b[39;22m \u001b[39mInstalling \u001b[39m\u001b[36mpillow\u001b[39m\u001b[39m (\u001b[39m\u001b[39;1m10.4.0\u001b[39;22m\u001b[39m)\u001b[39m: \u001b[34mDownloading...\u001b[39m \u001b[39;1m0%\u001b[39;22m\n",
      "  \u001b[34;1m-\u001b[39;22m \u001b[39mInstalling \u001b[39m\u001b[36mpyparsing\u001b[39m\u001b[39m (\u001b[39m\u001b[39;1m3.1.2\u001b[39;22m\u001b[39m)\u001b[39m: \u001b[34mDownloading...\u001b[39m \u001b[39;1m0%\u001b[39;22m\n",
      "\u001b[4A\u001b[0J  \u001b[34;1m-\u001b[39;22m \u001b[39mInstalling \u001b[39m\u001b[36mcycler\u001b[39m\u001b[39m (\u001b[39m\u001b[39;1m0.12.1\u001b[39;22m\u001b[39m)\u001b[39m: \u001b[34mInstalling...\u001b[39m\n",
      "  \u001b[34;1m-\u001b[39;22m \u001b[39mInstalling \u001b[39m\u001b[36mfonttools\u001b[39m\u001b[39m (\u001b[39m\u001b[39;1m4.53.1\u001b[39;22m\u001b[39m)\u001b[39m: \u001b[34mDownloading...\u001b[39m \u001b[39;1m0%\u001b[39;22m\n",
      "  \u001b[34;1m-\u001b[39;22m \u001b[39mInstalling \u001b[39m\u001b[36mkiwisolver\u001b[39m\u001b[39m (\u001b[39m\u001b[39;1m1.4.5\u001b[39;22m\u001b[39m)\u001b[39m: \u001b[34mDownloading...\u001b[39m \u001b[39;1m0%\u001b[39;22m\n",
      "  \u001b[34;1m-\u001b[39;22m \u001b[39mInstalling \u001b[39m\u001b[36mpillow\u001b[39m\u001b[39m (\u001b[39m\u001b[39;1m10.4.0\u001b[39;22m\u001b[39m)\u001b[39m: \u001b[34mDownloading...\u001b[39m \u001b[39;1m0%\u001b[39;22m\n",
      "  \u001b[34;1m-\u001b[39;22m \u001b[39mInstalling \u001b[39m\u001b[36mpyparsing\u001b[39m\u001b[39m (\u001b[39m\u001b[39;1m3.1.2\u001b[39;22m\u001b[39m)\u001b[39m: \u001b[34mDownloading...\u001b[39m \u001b[39;1m0%\u001b[39;22m\n",
      "\u001b[5A\u001b[0J  \u001b[34;1m-\u001b[39;22m \u001b[39mInstalling \u001b[39m\u001b[36mfonttools\u001b[39m\u001b[39m (\u001b[39m\u001b[39;1m4.53.1\u001b[39;22m\u001b[39m)\u001b[39m: \u001b[34mDownloading...\u001b[39m \u001b[39;1m0%\u001b[39;22m\n",
      "  \u001b[34;1m-\u001b[39;22m \u001b[39mInstalling \u001b[39m\u001b[36mkiwisolver\u001b[39m\u001b[39m (\u001b[39m\u001b[39;1m1.4.5\u001b[39;22m\u001b[39m)\u001b[39m: \u001b[34mDownloading...\u001b[39m \u001b[39;1m0%\u001b[39;22m\n",
      "  \u001b[34;1m-\u001b[39;22m \u001b[39mInstalling \u001b[39m\u001b[36mpillow\u001b[39m\u001b[39m (\u001b[39m\u001b[39;1m10.4.0\u001b[39;22m\u001b[39m)\u001b[39m: \u001b[34mDownloading...\u001b[39m \u001b[39;1m0%\u001b[39;22m\n",
      "  \u001b[34;1m-\u001b[39;22m \u001b[39mInstalling \u001b[39m\u001b[36mpyparsing\u001b[39m\u001b[39m (\u001b[39m\u001b[39;1m3.1.2\u001b[39;22m\u001b[39m)\u001b[39m: \u001b[34mDownloading...\u001b[39m \u001b[39;1m0%\u001b[39;22m\n",
      "\u001b[4A\u001b[0J  \u001b[32;1m-\u001b[39;22m \u001b[39mInstalling \u001b[39m\u001b[36mcycler\u001b[39m\u001b[39m (\u001b[39m\u001b[32m0.12.1\u001b[39m\u001b[39m)\u001b[39m\n",
      "  \u001b[34;1m-\u001b[39;22m \u001b[39mInstalling \u001b[39m\u001b[36mfonttools\u001b[39m\u001b[39m (\u001b[39m\u001b[39;1m4.53.1\u001b[39;22m\u001b[39m)\u001b[39m: \u001b[34mDownloading...\u001b[39m \u001b[39;1m0%\u001b[39;22m\n",
      "  \u001b[34;1m-\u001b[39;22m \u001b[39mInstalling \u001b[39m\u001b[36mkiwisolver\u001b[39m\u001b[39m (\u001b[39m\u001b[39;1m1.4.5\u001b[39;22m\u001b[39m)\u001b[39m: \u001b[34mDownloading...\u001b[39m \u001b[39;1m0%\u001b[39;22m\n",
      "  \u001b[34;1m-\u001b[39;22m \u001b[39mInstalling \u001b[39m\u001b[36mpillow\u001b[39m\u001b[39m (\u001b[39m\u001b[39;1m10.4.0\u001b[39;22m\u001b[39m)\u001b[39m: \u001b[34mDownloading...\u001b[39m \u001b[39;1m0%\u001b[39;22m\n",
      "  \u001b[34;1m-\u001b[39;22m \u001b[39mInstalling \u001b[39m\u001b[36mpyparsing\u001b[39m\u001b[39m (\u001b[39m\u001b[39;1m3.1.2\u001b[39;22m\u001b[39m)\u001b[39m: \u001b[34mDownloading...\u001b[39m \u001b[39;1m0%\u001b[39;22m\n",
      "\u001b[1A\u001b[0J  \u001b[34;1m-\u001b[39;22m \u001b[39mInstalling \u001b[39m\u001b[36mpyparsing\u001b[39m\u001b[39m (\u001b[39m\u001b[39;1m3.1.2\u001b[39;22m\u001b[39m)\u001b[39m: \u001b[34mDownloading...\u001b[39m \u001b[39;1m100%\u001b[39;22m\n",
      "\u001b[1A\u001b[0J  \u001b[34;1m-\u001b[39;22m \u001b[39mInstalling \u001b[39m\u001b[36mpyparsing\u001b[39m\u001b[39m (\u001b[39m\u001b[39;1m3.1.2\u001b[39;22m\u001b[39m)\u001b[39m: \u001b[34mInstalling...\u001b[39m\n",
      "\u001b[1A\u001b[0J  \u001b[32;1m-\u001b[39;22m \u001b[39mInstalling \u001b[39m\u001b[36mpyparsing\u001b[39m\u001b[39m (\u001b[39m\u001b[32m3.1.2\u001b[39m\u001b[39m)\u001b[39m\n",
      "\u001b[6A\u001b[0J  \u001b[32;1m-\u001b[39;22m \u001b[39mInstalling \u001b[39m\u001b[36mcycler\u001b[39m\u001b[39m (\u001b[39m\u001b[32m0.12.1\u001b[39m\u001b[39m)\u001b[39m\n",
      "  \u001b[34;1m-\u001b[39;22m \u001b[39mInstalling \u001b[39m\u001b[36mfonttools\u001b[39m\u001b[39m (\u001b[39m\u001b[39;1m4.53.1\u001b[39;22m\u001b[39m)\u001b[39m: \u001b[34mDownloading...\u001b[39m \u001b[39;1m0%\u001b[39;22m\n",
      "  \u001b[34;1m-\u001b[39;22m \u001b[39mInstalling \u001b[39m\u001b[36mkiwisolver\u001b[39m\u001b[39m (\u001b[39m\u001b[39;1m1.4.5\u001b[39;22m\u001b[39m)\u001b[39m: \u001b[34mDownloading...\u001b[39m \u001b[39;1m0%\u001b[39;22m\n",
      "  \u001b[34;1m-\u001b[39;22m \u001b[39mInstalling \u001b[39m\u001b[36mpillow\u001b[39m\u001b[39m (\u001b[39m\u001b[39;1m10.4.0\u001b[39;22m\u001b[39m)\u001b[39m: \u001b[34mDownloading...\u001b[39m \u001b[39;1m0%\u001b[39;22m\n",
      "  \u001b[32;1m-\u001b[39;22m \u001b[39mInstalling \u001b[39m\u001b[36mpyparsing\u001b[39m\u001b[39m (\u001b[39m\u001b[32m3.1.2\u001b[39m\u001b[39m)\u001b[39m\n",
      "\u001b[5A\u001b[0J  \u001b[34;1m-\u001b[39;22m \u001b[39mInstalling \u001b[39m\u001b[36mcontourpy\u001b[39m\u001b[39m (\u001b[39m\u001b[39;1m1.2.1\u001b[39;22m\u001b[39m)\u001b[39m: \u001b[34mDownloading...\u001b[39m \u001b[39;1m100%\u001b[39;22m\n",
      "  \u001b[32;1m-\u001b[39;22m \u001b[39mInstalling \u001b[39m\u001b[36mcycler\u001b[39m\u001b[39m (\u001b[39m\u001b[32m0.12.1\u001b[39m\u001b[39m)\u001b[39m\n",
      "  \u001b[34;1m-\u001b[39;22m \u001b[39mInstalling \u001b[39m\u001b[36mfonttools\u001b[39m\u001b[39m (\u001b[39m\u001b[39;1m4.53.1\u001b[39;22m\u001b[39m)\u001b[39m: \u001b[34mDownloading...\u001b[39m \u001b[39;1m0%\u001b[39;22m\n",
      "  \u001b[34;1m-\u001b[39;22m \u001b[39mInstalling \u001b[39m\u001b[36mkiwisolver\u001b[39m\u001b[39m (\u001b[39m\u001b[39;1m1.4.5\u001b[39;22m\u001b[39m)\u001b[39m: \u001b[34mDownloading...\u001b[39m \u001b[39;1m0%\u001b[39;22m\n",
      "  \u001b[34;1m-\u001b[39;22m \u001b[39mInstalling \u001b[39m\u001b[36mpillow\u001b[39m\u001b[39m (\u001b[39m\u001b[39;1m10.4.0\u001b[39;22m\u001b[39m)\u001b[39m: \u001b[34mDownloading...\u001b[39m \u001b[39;1m0%\u001b[39;22m\n",
      "  \u001b[32;1m-\u001b[39;22m \u001b[39mInstalling \u001b[39m\u001b[36mpyparsing\u001b[39m\u001b[39m (\u001b[39m\u001b[32m3.1.2\u001b[39m\u001b[39m)\u001b[39m\n",
      "\u001b[6A\u001b[0J  \u001b[32;1m-\u001b[39;22m \u001b[39mInstalling \u001b[39m\u001b[36mcycler\u001b[39m\u001b[39m (\u001b[39m\u001b[32m0.12.1\u001b[39m\u001b[39m)\u001b[39m\n",
      "  \u001b[34;1m-\u001b[39;22m \u001b[39mInstalling \u001b[39m\u001b[36mfonttools\u001b[39m\u001b[39m (\u001b[39m\u001b[39;1m4.53.1\u001b[39;22m\u001b[39m)\u001b[39m: \u001b[34mDownloading...\u001b[39m \u001b[39;1m0%\u001b[39;22m\n",
      "  \u001b[34;1m-\u001b[39;22m \u001b[39mInstalling \u001b[39m\u001b[36mkiwisolver\u001b[39m\u001b[39m (\u001b[39m\u001b[39;1m1.4.5\u001b[39;22m\u001b[39m)\u001b[39m: \u001b[34mDownloading...\u001b[39m \u001b[39;1m0%\u001b[39;22m\n",
      "  \u001b[34;1m-\u001b[39;22m \u001b[39mInstalling \u001b[39m\u001b[36mpillow\u001b[39m\u001b[39m (\u001b[39m\u001b[39;1m10.4.0\u001b[39;22m\u001b[39m)\u001b[39m: \u001b[34mDownloading...\u001b[39m \u001b[39;1m0%\u001b[39;22m\n",
      "  \u001b[32;1m-\u001b[39;22m \u001b[39mInstalling \u001b[39m\u001b[36mpyparsing\u001b[39m\u001b[39m (\u001b[39m\u001b[32m3.1.2\u001b[39m\u001b[39m)\u001b[39m\n",
      "\u001b[5A\u001b[0J  \u001b[34;1m-\u001b[39;22m \u001b[39mInstalling \u001b[39m\u001b[36mcontourpy\u001b[39m\u001b[39m (\u001b[39m\u001b[39;1m1.2.1\u001b[39;22m\u001b[39m)\u001b[39m: \u001b[34mInstalling...\u001b[39m\n",
      "  \u001b[32;1m-\u001b[39;22m \u001b[39mInstalling \u001b[39m\u001b[36mcycler\u001b[39m\u001b[39m (\u001b[39m\u001b[32m0.12.1\u001b[39m\u001b[39m)\u001b[39m\n",
      "  \u001b[34;1m-\u001b[39;22m \u001b[39mInstalling \u001b[39m\u001b[36mfonttools\u001b[39m\u001b[39m (\u001b[39m\u001b[39;1m4.53.1\u001b[39;22m\u001b[39m)\u001b[39m: \u001b[34mDownloading...\u001b[39m \u001b[39;1m0%\u001b[39;22m\n",
      "  \u001b[34;1m-\u001b[39;22m \u001b[39mInstalling \u001b[39m\u001b[36mkiwisolver\u001b[39m\u001b[39m (\u001b[39m\u001b[39;1m1.4.5\u001b[39;22m\u001b[39m)\u001b[39m: \u001b[34mDownloading...\u001b[39m \u001b[39;1m0%\u001b[39;22m\n",
      "  \u001b[34;1m-\u001b[39;22m \u001b[39mInstalling \u001b[39m\u001b[36mpillow\u001b[39m\u001b[39m (\u001b[39m\u001b[39;1m10.4.0\u001b[39;22m\u001b[39m)\u001b[39m: \u001b[34mDownloading...\u001b[39m \u001b[39;1m0%\u001b[39;22m\n",
      "  \u001b[32;1m-\u001b[39;22m \u001b[39mInstalling \u001b[39m\u001b[36mpyparsing\u001b[39m\u001b[39m (\u001b[39m\u001b[32m3.1.2\u001b[39m\u001b[39m)\u001b[39m\n",
      "\u001b[6A\u001b[0J  \u001b[32;1m-\u001b[39;22m \u001b[39mInstalling \u001b[39m\u001b[36mcycler\u001b[39m\u001b[39m (\u001b[39m\u001b[32m0.12.1\u001b[39m\u001b[39m)\u001b[39m\n",
      "  \u001b[34;1m-\u001b[39;22m \u001b[39mInstalling \u001b[39m\u001b[36mfonttools\u001b[39m\u001b[39m (\u001b[39m\u001b[39;1m4.53.1\u001b[39;22m\u001b[39m)\u001b[39m: \u001b[34mDownloading...\u001b[39m \u001b[39;1m0%\u001b[39;22m\n",
      "  \u001b[34;1m-\u001b[39;22m \u001b[39mInstalling \u001b[39m\u001b[36mkiwisolver\u001b[39m\u001b[39m (\u001b[39m\u001b[39;1m1.4.5\u001b[39;22m\u001b[39m)\u001b[39m: \u001b[34mDownloading...\u001b[39m \u001b[39;1m0%\u001b[39;22m\n",
      "  \u001b[34;1m-\u001b[39;22m \u001b[39mInstalling \u001b[39m\u001b[36mpillow\u001b[39m\u001b[39m (\u001b[39m\u001b[39;1m10.4.0\u001b[39;22m\u001b[39m)\u001b[39m: \u001b[34mDownloading...\u001b[39m \u001b[39;1m0%\u001b[39;22m\n",
      "  \u001b[32;1m-\u001b[39;22m \u001b[39mInstalling \u001b[39m\u001b[36mpyparsing\u001b[39m\u001b[39m (\u001b[39m\u001b[32m3.1.2\u001b[39m\u001b[39m)\u001b[39m\n",
      "\u001b[5A\u001b[0J  \u001b[32;1m-\u001b[39;22m \u001b[39mInstalling \u001b[39m\u001b[36mcontourpy\u001b[39m\u001b[39m (\u001b[39m\u001b[32m1.2.1\u001b[39m\u001b[39m)\u001b[39m\n",
      "  \u001b[32;1m-\u001b[39;22m \u001b[39mInstalling \u001b[39m\u001b[36mcycler\u001b[39m\u001b[39m (\u001b[39m\u001b[32m0.12.1\u001b[39m\u001b[39m)\u001b[39m\n",
      "  \u001b[34;1m-\u001b[39;22m \u001b[39mInstalling \u001b[39m\u001b[36mfonttools\u001b[39m\u001b[39m (\u001b[39m\u001b[39;1m4.53.1\u001b[39;22m\u001b[39m)\u001b[39m: \u001b[34mDownloading...\u001b[39m \u001b[39;1m0%\u001b[39;22m\n",
      "  \u001b[34;1m-\u001b[39;22m \u001b[39mInstalling \u001b[39m\u001b[36mkiwisolver\u001b[39m\u001b[39m (\u001b[39m\u001b[39;1m1.4.5\u001b[39;22m\u001b[39m)\u001b[39m: \u001b[34mDownloading...\u001b[39m \u001b[39;1m0%\u001b[39;22m\n",
      "  \u001b[34;1m-\u001b[39;22m \u001b[39mInstalling \u001b[39m\u001b[36mpillow\u001b[39m\u001b[39m (\u001b[39m\u001b[39;1m10.4.0\u001b[39;22m\u001b[39m)\u001b[39m: \u001b[34mDownloading...\u001b[39m \u001b[39;1m0%\u001b[39;22m\n",
      "  \u001b[32;1m-\u001b[39;22m \u001b[39mInstalling \u001b[39m\u001b[36mpyparsing\u001b[39m\u001b[39m (\u001b[39m\u001b[32m3.1.2\u001b[39m\u001b[39m)\u001b[39m\n",
      "\u001b[2A\u001b[0J  \u001b[32;1m-\u001b[39;22m \u001b[39mInstalling \u001b[39m\u001b[36mpyparsing\u001b[39m\u001b[39m (\u001b[39m\u001b[32m3.1.2\u001b[39m\u001b[39m)\u001b[39m\n",
      "\u001b[1A\u001b[0J  \u001b[34;1m-\u001b[39;22m \u001b[39mInstalling \u001b[39m\u001b[36mpillow\u001b[39m\u001b[39m (\u001b[39m\u001b[39;1m10.4.0\u001b[39;22m\u001b[39m)\u001b[39m: \u001b[34mDownloading...\u001b[39m \u001b[39;1m30%\u001b[39;22m\n",
      "  \u001b[32;1m-\u001b[39;22m \u001b[39mInstalling \u001b[39m\u001b[36mpyparsing\u001b[39m\u001b[39m (\u001b[39m\u001b[32m3.1.2\u001b[39m\u001b[39m)\u001b[39m\n",
      "\u001b[4A\u001b[0J  \u001b[34;1m-\u001b[39;22m \u001b[39mInstalling \u001b[39m\u001b[36mkiwisolver\u001b[39m\u001b[39m (\u001b[39m\u001b[39;1m1.4.5\u001b[39;22m\u001b[39m)\u001b[39m: \u001b[34mDownloading...\u001b[39m \u001b[39;1m0%\u001b[39;22m\n",
      "  \u001b[34;1m-\u001b[39;22m \u001b[39mInstalling \u001b[39m\u001b[36mpillow\u001b[39m\u001b[39m (\u001b[39m\u001b[39;1m10.4.0\u001b[39;22m\u001b[39m)\u001b[39m: \u001b[34mDownloading...\u001b[39m \u001b[39;1m30%\u001b[39;22m\n",
      "  \u001b[32;1m-\u001b[39;22m \u001b[39mInstalling \u001b[39m\u001b[36mpyparsing\u001b[39m\u001b[39m (\u001b[39m\u001b[32m3.1.2\u001b[39m\u001b[39m)\u001b[39m\n",
      "\u001b[3A\u001b[0J  \u001b[34;1m-\u001b[39;22m \u001b[39mInstalling \u001b[39m\u001b[36mfonttools\u001b[39m\u001b[39m (\u001b[39m\u001b[39;1m4.53.1\u001b[39;22m\u001b[39m)\u001b[39m: \u001b[34mDownloading...\u001b[39m \u001b[39;1m20%\u001b[39;22m\n",
      "  \u001b[34;1m-\u001b[39;22m \u001b[39mInstalling \u001b[39m\u001b[36mkiwisolver\u001b[39m\u001b[39m (\u001b[39m\u001b[39;1m1.4.5\u001b[39;22m\u001b[39m)\u001b[39m: \u001b[34mDownloading...\u001b[39m \u001b[39;1m0%\u001b[39;22m\n",
      "  \u001b[34;1m-\u001b[39;22m \u001b[39mInstalling \u001b[39m\u001b[36mpillow\u001b[39m\u001b[39m (\u001b[39m\u001b[39;1m10.4.0\u001b[39;22m\u001b[39m)\u001b[39m: \u001b[34mDownloading...\u001b[39m \u001b[39;1m30%\u001b[39;22m\n",
      "  \u001b[32;1m-\u001b[39;22m \u001b[39mInstalling \u001b[39m\u001b[36mpyparsing\u001b[39m\u001b[39m (\u001b[39m\u001b[32m3.1.2\u001b[39m\u001b[39m)\u001b[39m\n",
      "\u001b[3A\u001b[0J  \u001b[34;1m-\u001b[39;22m \u001b[39mInstalling \u001b[39m\u001b[36mpillow\u001b[39m\u001b[39m (\u001b[39m\u001b[39;1m10.4.0\u001b[39;22m\u001b[39m)\u001b[39m: \u001b[34mDownloading...\u001b[39m \u001b[39;1m30%\u001b[39;22m\n",
      "  \u001b[32;1m-\u001b[39;22m \u001b[39mInstalling \u001b[39m\u001b[36mpyparsing\u001b[39m\u001b[39m (\u001b[39m\u001b[32m3.1.2\u001b[39m\u001b[39m)\u001b[39m\n",
      "\u001b[2A\u001b[0J  \u001b[34;1m-\u001b[39;22m \u001b[39mInstalling \u001b[39m\u001b[36mkiwisolver\u001b[39m\u001b[39m (\u001b[39m\u001b[39;1m1.4.5\u001b[39;22m\u001b[39m)\u001b[39m: \u001b[34mDownloading...\u001b[39m \u001b[39;1m70%\u001b[39;22m\n",
      "  \u001b[34;1m-\u001b[39;22m \u001b[39mInstalling \u001b[39m\u001b[36mpillow\u001b[39m\u001b[39m (\u001b[39m\u001b[39;1m10.4.0\u001b[39;22m\u001b[39m)\u001b[39m: \u001b[34mDownloading...\u001b[39m \u001b[39;1m30%\u001b[39;22m\n",
      "  \u001b[32;1m-\u001b[39;22m \u001b[39mInstalling \u001b[39m\u001b[36mpyparsing\u001b[39m\u001b[39m (\u001b[39m\u001b[32m3.1.2\u001b[39m\u001b[39m)\u001b[39m\n",
      "\u001b[3A\u001b[0J  \u001b[34;1m-\u001b[39;22m \u001b[39mInstalling \u001b[39m\u001b[36mpillow\u001b[39m\u001b[39m (\u001b[39m\u001b[39;1m10.4.0\u001b[39;22m\u001b[39m)\u001b[39m: \u001b[34mDownloading...\u001b[39m \u001b[39;1m30%\u001b[39;22m\n",
      "  \u001b[32;1m-\u001b[39;22m \u001b[39mInstalling \u001b[39m\u001b[36mpyparsing\u001b[39m\u001b[39m (\u001b[39m\u001b[32m3.1.2\u001b[39m\u001b[39m)\u001b[39m\n",
      "\u001b[2A\u001b[0J  \u001b[34;1m-\u001b[39;22m \u001b[39mInstalling \u001b[39m\u001b[36mkiwisolver\u001b[39m\u001b[39m (\u001b[39m\u001b[39;1m1.4.5\u001b[39;22m\u001b[39m)\u001b[39m: \u001b[34mDownloading...\u001b[39m \u001b[39;1m100%\u001b[39;22m\n",
      "  \u001b[34;1m-\u001b[39;22m \u001b[39mInstalling \u001b[39m\u001b[36mpillow\u001b[39m\u001b[39m (\u001b[39m\u001b[39;1m10.4.0\u001b[39;22m\u001b[39m)\u001b[39m: \u001b[34mDownloading...\u001b[39m \u001b[39;1m30%\u001b[39;22m\n",
      "  \u001b[32;1m-\u001b[39;22m \u001b[39mInstalling \u001b[39m\u001b[36mpyparsing\u001b[39m\u001b[39m (\u001b[39m\u001b[32m3.1.2\u001b[39m\u001b[39m)\u001b[39m\n",
      "\u001b[3A\u001b[0J  \u001b[34;1m-\u001b[39;22m \u001b[39mInstalling \u001b[39m\u001b[36mpillow\u001b[39m\u001b[39m (\u001b[39m\u001b[39;1m10.4.0\u001b[39;22m\u001b[39m)\u001b[39m: \u001b[34mDownloading...\u001b[39m \u001b[39;1m30%\u001b[39;22m\n",
      "  \u001b[32;1m-\u001b[39;22m \u001b[39mInstalling \u001b[39m\u001b[36mpyparsing\u001b[39m\u001b[39m (\u001b[39m\u001b[32m3.1.2\u001b[39m\u001b[39m)\u001b[39m\n",
      "\u001b[2A\u001b[0J  \u001b[34;1m-\u001b[39;22m \u001b[39mInstalling \u001b[39m\u001b[36mkiwisolver\u001b[39m\u001b[39m (\u001b[39m\u001b[39;1m1.4.5\u001b[39;22m\u001b[39m)\u001b[39m: \u001b[34mInstalling...\u001b[39m\n",
      "  \u001b[34;1m-\u001b[39;22m \u001b[39mInstalling \u001b[39m\u001b[36mpillow\u001b[39m\u001b[39m (\u001b[39m\u001b[39;1m10.4.0\u001b[39;22m\u001b[39m)\u001b[39m: \u001b[34mDownloading...\u001b[39m \u001b[39;1m30%\u001b[39;22m\n",
      "  \u001b[32;1m-\u001b[39;22m \u001b[39mInstalling \u001b[39m\u001b[36mpyparsing\u001b[39m\u001b[39m (\u001b[39m\u001b[32m3.1.2\u001b[39m\u001b[39m)\u001b[39m\n",
      "\u001b[3A\u001b[0J  \u001b[34;1m-\u001b[39;22m \u001b[39mInstalling \u001b[39m\u001b[36mpillow\u001b[39m\u001b[39m (\u001b[39m\u001b[39;1m10.4.0\u001b[39;22m\u001b[39m)\u001b[39m: \u001b[34mDownloading...\u001b[39m \u001b[39;1m30%\u001b[39;22m\n",
      "  \u001b[32;1m-\u001b[39;22m \u001b[39mInstalling \u001b[39m\u001b[36mpyparsing\u001b[39m\u001b[39m (\u001b[39m\u001b[32m3.1.2\u001b[39m\u001b[39m)\u001b[39m\n",
      "\u001b[2A\u001b[0J  \u001b[32;1m-\u001b[39;22m \u001b[39mInstalling \u001b[39m\u001b[36mkiwisolver\u001b[39m\u001b[39m (\u001b[39m\u001b[32m1.4.5\u001b[39m\u001b[39m)\u001b[39m\n",
      "  \u001b[34;1m-\u001b[39;22m \u001b[39mInstalling \u001b[39m\u001b[36mpillow\u001b[39m\u001b[39m (\u001b[39m\u001b[39;1m10.4.0\u001b[39;22m\u001b[39m)\u001b[39m: \u001b[34mDownloading...\u001b[39m \u001b[39;1m30%\u001b[39;22m\n",
      "  \u001b[32;1m-\u001b[39;22m \u001b[39mInstalling \u001b[39m\u001b[36mpyparsing\u001b[39m\u001b[39m (\u001b[39m\u001b[32m3.1.2\u001b[39m\u001b[39m)\u001b[39m\n",
      "\u001b[4A\u001b[0J  \u001b[32;1m-\u001b[39;22m \u001b[39mInstalling \u001b[39m\u001b[36mkiwisolver\u001b[39m\u001b[39m (\u001b[39m\u001b[32m1.4.5\u001b[39m\u001b[39m)\u001b[39m\n",
      "  \u001b[34;1m-\u001b[39;22m \u001b[39mInstalling \u001b[39m\u001b[36mpillow\u001b[39m\u001b[39m (\u001b[39m\u001b[39;1m10.4.0\u001b[39;22m\u001b[39m)\u001b[39m: \u001b[34mDownloading...\u001b[39m \u001b[39;1m30%\u001b[39;22m\n",
      "  \u001b[32;1m-\u001b[39;22m \u001b[39mInstalling \u001b[39m\u001b[36mpyparsing\u001b[39m\u001b[39m (\u001b[39m\u001b[32m3.1.2\u001b[39m\u001b[39m)\u001b[39m\n",
      "\u001b[3A\u001b[0J  \u001b[34;1m-\u001b[39;22m \u001b[39mInstalling \u001b[39m\u001b[36mfonttools\u001b[39m\u001b[39m (\u001b[39m\u001b[39;1m4.53.1\u001b[39;22m\u001b[39m)\u001b[39m: \u001b[34mDownloading...\u001b[39m \u001b[39;1m50%\u001b[39;22m\n",
      "  \u001b[32;1m-\u001b[39;22m \u001b[39mInstalling \u001b[39m\u001b[36mkiwisolver\u001b[39m\u001b[39m (\u001b[39m\u001b[32m1.4.5\u001b[39m\u001b[39m)\u001b[39m\n",
      "  \u001b[34;1m-\u001b[39;22m \u001b[39mInstalling \u001b[39m\u001b[36mpillow\u001b[39m\u001b[39m (\u001b[39m\u001b[39;1m10.4.0\u001b[39;22m\u001b[39m)\u001b[39m: \u001b[34mDownloading...\u001b[39m \u001b[39;1m30%\u001b[39;22m\n",
      "  \u001b[32;1m-\u001b[39;22m \u001b[39mInstalling \u001b[39m\u001b[36mpyparsing\u001b[39m\u001b[39m (\u001b[39m\u001b[32m3.1.2\u001b[39m\u001b[39m)\u001b[39m\n",
      "\u001b[2A\u001b[0J  \u001b[32;1m-\u001b[39;22m \u001b[39mInstalling \u001b[39m\u001b[36mpyparsing\u001b[39m\u001b[39m (\u001b[39m\u001b[32m3.1.2\u001b[39m\u001b[39m)\u001b[39m\n",
      "\u001b[1A\u001b[0J  \u001b[34;1m-\u001b[39;22m \u001b[39mInstalling \u001b[39m\u001b[36mpillow\u001b[39m\u001b[39m (\u001b[39m\u001b[39;1m10.4.0\u001b[39;22m\u001b[39m)\u001b[39m: \u001b[34mDownloading...\u001b[39m \u001b[39;1m90%\u001b[39;22m\n",
      "  \u001b[32;1m-\u001b[39;22m \u001b[39mInstalling \u001b[39m\u001b[36mpyparsing\u001b[39m\u001b[39m (\u001b[39m\u001b[32m3.1.2\u001b[39m\u001b[39m)\u001b[39m\n",
      "\u001b[2A\u001b[0J  \u001b[32;1m-\u001b[39;22m \u001b[39mInstalling \u001b[39m\u001b[36mpyparsing\u001b[39m\u001b[39m (\u001b[39m\u001b[32m3.1.2\u001b[39m\u001b[39m)\u001b[39m\n",
      "\u001b[1A\u001b[0J  \u001b[34;1m-\u001b[39;22m \u001b[39mInstalling \u001b[39m\u001b[36mpillow\u001b[39m\u001b[39m (\u001b[39m\u001b[39;1m10.4.0\u001b[39;22m\u001b[39m)\u001b[39m: \u001b[34mDownloading...\u001b[39m \u001b[39;1m100%\u001b[39;22m\n",
      "  \u001b[32;1m-\u001b[39;22m \u001b[39mInstalling \u001b[39m\u001b[36mpyparsing\u001b[39m\u001b[39m (\u001b[39m\u001b[32m3.1.2\u001b[39m\u001b[39m)\u001b[39m\n",
      "\u001b[2A\u001b[0J  \u001b[32;1m-\u001b[39;22m \u001b[39mInstalling \u001b[39m\u001b[36mpyparsing\u001b[39m\u001b[39m (\u001b[39m\u001b[32m3.1.2\u001b[39m\u001b[39m)\u001b[39m\n",
      "\u001b[1A\u001b[0J  \u001b[34;1m-\u001b[39;22m \u001b[39mInstalling \u001b[39m\u001b[36mpillow\u001b[39m\u001b[39m (\u001b[39m\u001b[39;1m10.4.0\u001b[39;22m\u001b[39m)\u001b[39m: \u001b[34mInstalling...\u001b[39m\n",
      "  \u001b[32;1m-\u001b[39;22m \u001b[39mInstalling \u001b[39m\u001b[36mpyparsing\u001b[39m\u001b[39m (\u001b[39m\u001b[32m3.1.2\u001b[39m\u001b[39m)\u001b[39m\n",
      "\u001b[2A\u001b[0J  \u001b[32;1m-\u001b[39;22m \u001b[39mInstalling \u001b[39m\u001b[36mpyparsing\u001b[39m\u001b[39m (\u001b[39m\u001b[32m3.1.2\u001b[39m\u001b[39m)\u001b[39m\n",
      "\u001b[1A\u001b[0J  \u001b[32;1m-\u001b[39;22m \u001b[39mInstalling \u001b[39m\u001b[36mpillow\u001b[39m\u001b[39m (\u001b[39m\u001b[32m10.4.0\u001b[39m\u001b[39m)\u001b[39m\n",
      "  \u001b[32;1m-\u001b[39;22m \u001b[39mInstalling \u001b[39m\u001b[36mpyparsing\u001b[39m\u001b[39m (\u001b[39m\u001b[32m3.1.2\u001b[39m\u001b[39m)\u001b[39m\n",
      "\u001b[4A\u001b[0J  \u001b[32;1m-\u001b[39;22m \u001b[39mInstalling \u001b[39m\u001b[36mkiwisolver\u001b[39m\u001b[39m (\u001b[39m\u001b[32m1.4.5\u001b[39m\u001b[39m)\u001b[39m\n",
      "  \u001b[32;1m-\u001b[39;22m \u001b[39mInstalling \u001b[39m\u001b[36mpillow\u001b[39m\u001b[39m (\u001b[39m\u001b[32m10.4.0\u001b[39m\u001b[39m)\u001b[39m\n",
      "  \u001b[32;1m-\u001b[39;22m \u001b[39mInstalling \u001b[39m\u001b[36mpyparsing\u001b[39m\u001b[39m (\u001b[39m\u001b[32m3.1.2\u001b[39m\u001b[39m)\u001b[39m\n",
      "\u001b[3A\u001b[0J  \u001b[34;1m-\u001b[39;22m \u001b[39mInstalling \u001b[39m\u001b[36mfonttools\u001b[39m\u001b[39m (\u001b[39m\u001b[39;1m4.53.1\u001b[39;22m\u001b[39m)\u001b[39m: \u001b[34mDownloading...\u001b[39m \u001b[39;1m100%\u001b[39;22m\n",
      "  \u001b[32;1m-\u001b[39;22m \u001b[39mInstalling \u001b[39m\u001b[36mkiwisolver\u001b[39m\u001b[39m (\u001b[39m\u001b[32m1.4.5\u001b[39m\u001b[39m)\u001b[39m\n",
      "  \u001b[32;1m-\u001b[39;22m \u001b[39mInstalling \u001b[39m\u001b[36mpillow\u001b[39m\u001b[39m (\u001b[39m\u001b[32m10.4.0\u001b[39m\u001b[39m)\u001b[39m\n",
      "  \u001b[32;1m-\u001b[39;22m \u001b[39mInstalling \u001b[39m\u001b[36mpyparsing\u001b[39m\u001b[39m (\u001b[39m\u001b[32m3.1.2\u001b[39m\u001b[39m)\u001b[39m\n",
      "\u001b[4A\u001b[0J  \u001b[32;1m-\u001b[39;22m \u001b[39mInstalling \u001b[39m\u001b[36mkiwisolver\u001b[39m\u001b[39m (\u001b[39m\u001b[32m1.4.5\u001b[39m\u001b[39m)\u001b[39m\n",
      "  \u001b[32;1m-\u001b[39;22m \u001b[39mInstalling \u001b[39m\u001b[36mpillow\u001b[39m\u001b[39m (\u001b[39m\u001b[32m10.4.0\u001b[39m\u001b[39m)\u001b[39m\n",
      "  \u001b[32;1m-\u001b[39;22m \u001b[39mInstalling \u001b[39m\u001b[36mpyparsing\u001b[39m\u001b[39m (\u001b[39m\u001b[32m3.1.2\u001b[39m\u001b[39m)\u001b[39m\n",
      "\u001b[3A\u001b[0J  \u001b[34;1m-\u001b[39;22m \u001b[39mInstalling \u001b[39m\u001b[36mfonttools\u001b[39m\u001b[39m (\u001b[39m\u001b[39;1m4.53.1\u001b[39;22m\u001b[39m)\u001b[39m: \u001b[34mInstalling...\u001b[39m\n",
      "  \u001b[32;1m-\u001b[39;22m \u001b[39mInstalling \u001b[39m\u001b[36mkiwisolver\u001b[39m\u001b[39m (\u001b[39m\u001b[32m1.4.5\u001b[39m\u001b[39m)\u001b[39m\n",
      "  \u001b[32;1m-\u001b[39;22m \u001b[39mInstalling \u001b[39m\u001b[36mpillow\u001b[39m\u001b[39m (\u001b[39m\u001b[32m10.4.0\u001b[39m\u001b[39m)\u001b[39m\n",
      "  \u001b[32;1m-\u001b[39;22m \u001b[39mInstalling \u001b[39m\u001b[36mpyparsing\u001b[39m\u001b[39m (\u001b[39m\u001b[32m3.1.2\u001b[39m\u001b[39m)\u001b[39m\n",
      "\u001b[4A\u001b[0J  \u001b[32;1m-\u001b[39;22m \u001b[39mInstalling \u001b[39m\u001b[36mkiwisolver\u001b[39m\u001b[39m (\u001b[39m\u001b[32m1.4.5\u001b[39m\u001b[39m)\u001b[39m\n",
      "  \u001b[32;1m-\u001b[39;22m \u001b[39mInstalling \u001b[39m\u001b[36mpillow\u001b[39m\u001b[39m (\u001b[39m\u001b[32m10.4.0\u001b[39m\u001b[39m)\u001b[39m\n",
      "  \u001b[32;1m-\u001b[39;22m \u001b[39mInstalling \u001b[39m\u001b[36mpyparsing\u001b[39m\u001b[39m (\u001b[39m\u001b[32m3.1.2\u001b[39m\u001b[39m)\u001b[39m\n",
      "\u001b[3A\u001b[0J  \u001b[32;1m-\u001b[39;22m \u001b[39mInstalling \u001b[39m\u001b[36mfonttools\u001b[39m\u001b[39m (\u001b[39m\u001b[32m4.53.1\u001b[39m\u001b[39m)\u001b[39m\n",
      "  \u001b[32;1m-\u001b[39;22m \u001b[39mInstalling \u001b[39m\u001b[36mkiwisolver\u001b[39m\u001b[39m (\u001b[39m\u001b[32m1.4.5\u001b[39m\u001b[39m)\u001b[39m\n",
      "  \u001b[32;1m-\u001b[39;22m \u001b[39mInstalling \u001b[39m\u001b[36mpillow\u001b[39m\u001b[39m (\u001b[39m\u001b[32m10.4.0\u001b[39m\u001b[39m)\u001b[39m\n",
      "  \u001b[32;1m-\u001b[39;22m \u001b[39mInstalling \u001b[39m\u001b[36mpyparsing\u001b[39m\u001b[39m (\u001b[39m\u001b[32m3.1.2\u001b[39m\u001b[39m)\u001b[39m\n",
      "  \u001b[34;1m-\u001b[39;22m \u001b[39mInstalling \u001b[39m\u001b[36mmatplotlib\u001b[39m\u001b[39m (\u001b[39m\u001b[39;1m3.9.1\u001b[39;22m\u001b[39m)\u001b[39m: \u001b[34mPending...\u001b[39m\n",
      "\u001b[1A\u001b[0J  \u001b[34;1m-\u001b[39;22m \u001b[39mInstalling \u001b[39m\u001b[36mmatplotlib\u001b[39m\u001b[39m (\u001b[39m\u001b[39;1m3.9.1\u001b[39;22m\u001b[39m)\u001b[39m: \u001b[34mDownloading...\u001b[39m \u001b[39;1m0%\u001b[39;22m\n",
      "\u001b[1A\u001b[0J  \u001b[34;1m-\u001b[39;22m \u001b[39mInstalling \u001b[39m\u001b[36mmatplotlib\u001b[39m\u001b[39m (\u001b[39m\u001b[39;1m3.9.1\u001b[39;22m\u001b[39m)\u001b[39m: \u001b[34mDownloading...\u001b[39m \u001b[39;1m30%\u001b[39;22m\n",
      "\u001b[1A\u001b[0J  \u001b[34;1m-\u001b[39;22m \u001b[39mInstalling \u001b[39m\u001b[36mmatplotlib\u001b[39m\u001b[39m (\u001b[39m\u001b[39;1m3.9.1\u001b[39;22m\u001b[39m)\u001b[39m: \u001b[34mDownloading...\u001b[39m \u001b[39;1m60%\u001b[39;22m\n",
      "\u001b[1A\u001b[0J  \u001b[34;1m-\u001b[39;22m \u001b[39mInstalling \u001b[39m\u001b[36mmatplotlib\u001b[39m\u001b[39m (\u001b[39m\u001b[39;1m3.9.1\u001b[39;22m\u001b[39m)\u001b[39m: \u001b[34mDownloading...\u001b[39m \u001b[39;1m90%\u001b[39;22m\n",
      "\u001b[1A\u001b[0J  \u001b[34;1m-\u001b[39;22m \u001b[39mInstalling \u001b[39m\u001b[36mmatplotlib\u001b[39m\u001b[39m (\u001b[39m\u001b[39;1m3.9.1\u001b[39;22m\u001b[39m)\u001b[39m: \u001b[34mDownloading...\u001b[39m \u001b[39;1m100%\u001b[39;22m\n",
      "\u001b[1A\u001b[0J  \u001b[34;1m-\u001b[39;22m \u001b[39mInstalling \u001b[39m\u001b[36mmatplotlib\u001b[39m\u001b[39m (\u001b[39m\u001b[39;1m3.9.1\u001b[39;22m\u001b[39m)\u001b[39m: \u001b[34mInstalling...\u001b[39m\n",
      "\u001b[1A\u001b[0J  \u001b[32;1m-\u001b[39;22m \u001b[39mInstalling \u001b[39m\u001b[36mmatplotlib\u001b[39m\u001b[39m (\u001b[39m\u001b[32m3.9.1\u001b[39m\u001b[39m)\u001b[39m\n",
      "\n",
      "\u001b[34mWriting lock file\u001b[39m\n"
     ]
    }
   ],
   "source": [
    "!poetry add matplotlib"
   ]
  },
  {
   "cell_type": "code",
   "execution_count": 19,
   "metadata": {},
   "outputs": [
    {
     "data": {
      "text/plain": [
       "<Axes: xlabel='record_timestamp'>"
      ]
     },
     "execution_count": 19,
     "metadata": {},
     "output_type": "execute_result"
    },
    {
     "data": {
      "image/png": "[encoded data removed]",
      "text/plain": [
       "<Figure size 640x480 with 1 Axes>"
      ]
     },
     "metadata": {},
     "output_type": "display_data"
    }
   ],
   "source": [
    "agg = con.execute(\n",
    "       \"\"\"\n",
    "       SELECT record_timestamp, SUM(numbikesavailable) AS total \n",
    "       FROM velib_global\n",
    "       GROUP BY record_timestamp\n",
    "       ORDER BY record_timestamp ASC;\n",
    "\"\"\"\n",
    ")\n",
    "agg_df = agg.df()\n",
    "\n",
    "ts = pd.Series(agg_df['total'].values, index=agg_df['record_timestamp'])\n",
    "\n",
    "ts.plot()\n"
   ]
  },
  {
   "cell_type": "code",
   "execution_count": 16,
   "metadata": {},
   "outputs": [
    {
     "name": "stdout",
     "output_type": "stream",
     "text": [
      "<class 'pandas.core.frame.DataFrame'>\n",
      "RangeIndex: 51935527 entries, 0 to 51935526\n",
      "Data columns (total 15 columns):\n",
      " #   Column             Dtype                  \n",
      "---  ------             -----                  \n",
      " 0   id                 float64                \n",
      " 1   record_timestamp   datetime64[us, Etc/UTC]\n",
      " 2   stationcode        object                 \n",
      " 3   ebike              int64                  \n",
      " 4   mechanical         int64                  \n",
      " 5   duedate            object                 \n",
      " 6   numbikesavailable  int64                  \n",
      " 7   numdocksavailable  int64                  \n",
      " 8   capacity           int64                  \n",
      " 9   is_renting         object                 \n",
      " 10  is_installed       object                 \n",
      " 11  is_returning       object                 \n",
      " 12  name               object                 \n",
      " 13  latitude           float64                \n",
      " 14  longitude          float64                \n",
      "dtypes: datetime64[us, Etc/UTC](1), float64(3), int64(5), object(6)\n",
      "memory usage: 5.8+ GB\n"
     ]
    }
   ],
   "source": [
    "import pandas as pd\n",
    "import duckdb\n",
    "\n",
    "\n",
    "df = pd.read_parquet('merged_data.parquet')\n",
    "df.info()"
   ]
  },
  {
   "cell_type": "code",
   "execution_count": 8,
   "metadata": {},
   "outputs": [
    {
     "name": "stdout",
     "output_type": "stream",
     "text": [
      "<class 'pandas.core.frame.DataFrame'>\n",
      "RangeIndex: 1496 entries, 0 to 1495\n",
      "Data columns (total 5 columns):\n",
      " #   Column                       Non-Null Count  Dtype  \n",
      "---  ------                       --------------  -----  \n",
      " 0   stationcode                  1496 non-null   object \n",
      " 1   name                         1496 non-null   object \n",
      " 2   latitude                     1496 non-null   float64\n",
      " 3   longitude                    1496 non-null   float64\n",
      " 4   nom_arrondissement_communes  1496 non-null   object \n",
      "dtypes: float64(2), object(3)\n",
      "memory usage: 58.6+ KB\n"
     ]
    }
   ],
   "source": [
    "import pandas as pd\n",
    "\n",
    "\n",
    "\n",
    "df = pd.read_parquet('locations_backup.parquet')\n",
    "df.info()"
   ]
  },
  {
   "cell_type": "code",
   "execution_count": 20,
   "metadata": {},
   "outputs": [
    {
     "ename": "ParserError",
     "evalue": "Error tokenizing data. C error: Expected 5 fields in line 5, saw 8\n",
     "output_type": "error",
     "traceback": [
      "\u001b[0;31m---------------------------------------------------------------------------\u001b[0m",
      "\u001b[0;31mParserError\u001b[0m                               Traceback (most recent call last)",
      "Cell \u001b[0;32mIn[20], line 5\u001b[0m\n\u001b[1;32m      1\u001b[0m \u001b[38;5;28;01mimport\u001b[39;00m \u001b[38;5;21;01mpandas\u001b[39;00m \u001b[38;5;28;01mas\u001b[39;00m \u001b[38;5;21;01mpd\u001b[39;00m\n\u001b[0;32m----> 5\u001b[0m df \u001b[38;5;241m=\u001b[39m \u001b[43mpd\u001b[49m\u001b[38;5;241;43m.\u001b[39;49m\u001b[43mread_csv\u001b[49m\u001b[43m(\u001b[49m\u001b[38;5;124;43m'\u001b[39;49m\u001b[38;5;124;43mdonnees-synop-essentielles-omm.csv\u001b[39;49m\u001b[38;5;124;43m'\u001b[39;49m\u001b[43m)\u001b[49m\n\u001b[1;32m      6\u001b[0m df\u001b[38;5;241m.\u001b[39minfo()\n",
      "File \u001b[0;32m~/.cache/pypoetry/virtualenvs/astronomer-codespaces-test-2e7RZVmm-py3.10/lib/python3.10/site-packages/pandas/io/parsers/readers.py:1026\u001b[0m, in \u001b[0;36mread_csv\u001b[0;34m(filepath_or_buffer, sep, delimiter, header, names, index_col, usecols, dtype, engine, converters, true_values, false_values, skipinitialspace, skiprows, skipfooter, nrows, na_values, keep_default_na, na_filter, verbose, skip_blank_lines, parse_dates, infer_datetime_format, keep_date_col, date_parser, date_format, dayfirst, cache_dates, iterator, chunksize, compression, thousands, decimal, lineterminator, quotechar, quoting, doublequote, escapechar, comment, encoding, encoding_errors, dialect, on_bad_lines, delim_whitespace, low_memory, memory_map, float_precision, storage_options, dtype_backend)\u001b[0m\n\u001b[1;32m   1013\u001b[0m kwds_defaults \u001b[38;5;241m=\u001b[39m _refine_defaults_read(\n\u001b[1;32m   1014\u001b[0m     dialect,\n\u001b[1;32m   1015\u001b[0m     delimiter,\n\u001b[0;32m   (...)\u001b[0m\n\u001b[1;32m   1022\u001b[0m     dtype_backend\u001b[38;5;241m=\u001b[39mdtype_backend,\n\u001b[1;32m   1023\u001b[0m )\n\u001b[1;32m   1024\u001b[0m kwds\u001b[38;5;241m.\u001b[39mupdate(kwds_defaults)\n\u001b[0;32m-> 1026\u001b[0m \u001b[38;5;28;01mreturn\u001b[39;00m \u001b[43m_read\u001b[49m\u001b[43m(\u001b[49m\u001b[43mfilepath_or_buffer\u001b[49m\u001b[43m,\u001b[49m\u001b[43m \u001b[49m\u001b[43mkwds\u001b[49m\u001b[43m)\u001b[49m\n",
      "File \u001b[0;32m~/.cache/pypoetry/virtualenvs/astronomer-codespaces-test-2e7RZVmm-py3.10/lib/python3.10/site-packages/pandas/io/parsers/readers.py:626\u001b[0m, in \u001b[0;36m_read\u001b[0;34m(filepath_or_buffer, kwds)\u001b[0m\n\u001b[1;32m    623\u001b[0m     \u001b[38;5;28;01mreturn\u001b[39;00m parser\n\u001b[1;32m    625\u001b[0m \u001b[38;5;28;01mwith\u001b[39;00m parser:\n\u001b[0;32m--> 626\u001b[0m     \u001b[38;5;28;01mreturn\u001b[39;00m \u001b[43mparser\u001b[49m\u001b[38;5;241;43m.\u001b[39;49m\u001b[43mread\u001b[49m\u001b[43m(\u001b[49m\u001b[43mnrows\u001b[49m\u001b[43m)\u001b[49m\n",
      "File \u001b[0;32m~/.cache/pypoetry/virtualenvs/astronomer-codespaces-test-2e7RZVmm-py3.10/lib/python3.10/site-packages/pandas/io/parsers/readers.py:1923\u001b[0m, in \u001b[0;36mTextFileReader.read\u001b[0;34m(self, nrows)\u001b[0m\n\u001b[1;32m   1916\u001b[0m nrows \u001b[38;5;241m=\u001b[39m validate_integer(\u001b[38;5;124m\"\u001b[39m\u001b[38;5;124mnrows\u001b[39m\u001b[38;5;124m\"\u001b[39m, nrows)\n\u001b[1;32m   1917\u001b[0m \u001b[38;5;28;01mtry\u001b[39;00m:\n\u001b[1;32m   1918\u001b[0m     \u001b[38;5;66;03m# error: \"ParserBase\" has no attribute \"read\"\u001b[39;00m\n\u001b[1;32m   1919\u001b[0m     (\n\u001b[1;32m   1920\u001b[0m         index,\n\u001b[1;32m   1921\u001b[0m         columns,\n\u001b[1;32m   1922\u001b[0m         col_dict,\n\u001b[0;32m-> 1923\u001b[0m     ) \u001b[38;5;241m=\u001b[39m \u001b[38;5;28;43mself\u001b[39;49m\u001b[38;5;241;43m.\u001b[39;49m\u001b[43m_engine\u001b[49m\u001b[38;5;241;43m.\u001b[39;49m\u001b[43mread\u001b[49m\u001b[43m(\u001b[49m\u001b[43m  \u001b[49m\u001b[38;5;66;43;03m# type: ignore[attr-defined]\u001b[39;49;00m\n\u001b[1;32m   1924\u001b[0m \u001b[43m        \u001b[49m\u001b[43mnrows\u001b[49m\n\u001b[1;32m   1925\u001b[0m \u001b[43m    \u001b[49m\u001b[43m)\u001b[49m\n\u001b[1;32m   1926\u001b[0m \u001b[38;5;28;01mexcept\u001b[39;00m \u001b[38;5;167;01mException\u001b[39;00m:\n\u001b[1;32m   1927\u001b[0m     \u001b[38;5;28mself\u001b[39m\u001b[38;5;241m.\u001b[39mclose()\n",
      "File \u001b[0;32m~/.cache/pypoetry/virtualenvs/astronomer-codespaces-test-2e7RZVmm-py3.10/lib/python3.10/site-packages/pandas/io/parsers/c_parser_wrapper.py:234\u001b[0m, in \u001b[0;36mCParserWrapper.read\u001b[0;34m(self, nrows)\u001b[0m\n\u001b[1;32m    232\u001b[0m \u001b[38;5;28;01mtry\u001b[39;00m:\n\u001b[1;32m    233\u001b[0m     \u001b[38;5;28;01mif\u001b[39;00m \u001b[38;5;28mself\u001b[39m\u001b[38;5;241m.\u001b[39mlow_memory:\n\u001b[0;32m--> 234\u001b[0m         chunks \u001b[38;5;241m=\u001b[39m \u001b[38;5;28;43mself\u001b[39;49m\u001b[38;5;241;43m.\u001b[39;49m\u001b[43m_reader\u001b[49m\u001b[38;5;241;43m.\u001b[39;49m\u001b[43mread_low_memory\u001b[49m\u001b[43m(\u001b[49m\u001b[43mnrows\u001b[49m\u001b[43m)\u001b[49m\n\u001b[1;32m    235\u001b[0m         \u001b[38;5;66;03m# destructive to chunks\u001b[39;00m\n\u001b[1;32m    236\u001b[0m         data \u001b[38;5;241m=\u001b[39m _concatenate_chunks(chunks)\n",
      "File \u001b[0;32mparsers.pyx:838\u001b[0m, in \u001b[0;36mpandas._libs.parsers.TextReader.read_low_memory\u001b[0;34m()\u001b[0m\n",
      "File \u001b[0;32mparsers.pyx:905\u001b[0m, in \u001b[0;36mpandas._libs.parsers.TextReader._read_rows\u001b[0;34m()\u001b[0m\n",
      "File \u001b[0;32mparsers.pyx:874\u001b[0m, in \u001b[0;36mpandas._libs.parsers.TextReader._tokenize_rows\u001b[0;34m()\u001b[0m\n",
      "File \u001b[0;32mparsers.pyx:891\u001b[0m, in \u001b[0;36mpandas._libs.parsers.TextReader._check_tokenize_status\u001b[0;34m()\u001b[0m\n",
      "File \u001b[0;32mparsers.pyx:2061\u001b[0m, in \u001b[0;36mpandas._libs.parsers.raise_parser_error\u001b[0;34m()\u001b[0m\n",
      "\u001b[0;31mParserError\u001b[0m: Error tokenizing data. C error: Expected 5 fields in line 5, saw 8\n"
     ]
    }
   ],
   "source": [
    "import pandas as pd\n",
    "\n",
    "\n",
    "\n",
    "df = pd.read_csv('donnees-synop-essentielles-omm.csv')\n",
    "df.info()"
   ]
  }
 ],
 "metadata": {
  "kernelspec": {
   "display_name": "sentiment-analysis-api-with-fastapi-RhkKRqZ7-py3.11",
   "language": "python",
   "name": "python3"
  },
  "language_info": {
   "codemirror_mode": {
    "name": "ipython",
    "version": 3
   },
   "file_extension": ".py",
   "mimetype": "text/x-python",
   "name": "python",
   "nbconvert_exporter": "python",
   "pygments_lexer": "ipython3",
   "version": "3.10.14"
  }
 },
 "nbformat": 4,
 "nbformat_minor": 2
}
