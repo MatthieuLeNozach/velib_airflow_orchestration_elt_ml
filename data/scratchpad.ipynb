{
 "cells": [
  {
   "cell_type": "code",
   "execution_count": 2,
   "metadata": {},
   "outputs": [
    {
     "name": "stdout",
     "output_type": "stream",
     "text": [
      "/home/mln/GIT/0_EXPLORE/github/astronomer-codespaces-test/data\n"
     ]
    }
   ],
   "source": [
    "!pwd"
   ]
  },
  {
   "cell_type": "code",
   "execution_count": 3,
   "metadata": {},
   "outputs": [
    {
     "name": "stdout",
     "output_type": "stream",
     "text": [
      "<class 'pandas.core.frame.DataFrame'>\n",
      "RangeIndex: 124950 entries, 0 to 124949\n",
      "Data columns (total 16 columns):\n",
      " #   Column                       Non-Null Count   Dtype                                \n",
      "---  ------                       --------------   -----                                \n",
      " 0   id                           124950 non-null  float64                              \n",
      " 1   record_timestamp             124950 non-null  datetime64[us, pytz.FixedOffset(120)]\n",
      " 2   stationcode                  124950 non-null  object                               \n",
      " 3   ebike                        124950 non-null  int64                                \n",
      " 4   mechanical                   124950 non-null  int64                                \n",
      " 5   duedate                      124950 non-null  object                               \n",
      " 6   numbikesavailable            124950 non-null  int64                                \n",
      " 7   numdocksavailable            124950 non-null  int64                                \n",
      " 8   capacity                     124950 non-null  int64                                \n",
      " 9   is_renting                   124950 non-null  object                               \n",
      " 10  is_installed                 124950 non-null  object                               \n",
      " 11  is_returning                 124950 non-null  object                               \n",
      " 12  name                         124950 non-null  object                               \n",
      " 13  latitude                     124950 non-null  float64                              \n",
      " 14  longitude                    124950 non-null  float64                              \n",
      " 15  nom_arrondissement_communes  124950 non-null  object                               \n",
      "dtypes: datetime64[us, pytz.FixedOffset(120)](1), float64(3), int64(5), object(7)\n",
      "memory usage: 15.3+ MB\n"
     ]
    }
   ],
   "source": [
    "import pandas as pd\n",
    "\n",
    "\n",
    "df = pd.read_parquet('2024-06-02.parquet')\n",
    "df.info()"
   ]
  },
  {
   "cell_type": "code",
   "execution_count": 2,
   "metadata": {},
   "outputs": [
    {
     "name": "stdout",
     "output_type": "stream",
     "text": [
      "<class 'pandas.core.frame.DataFrame'>\n",
      "RangeIndex: 942480 entries, 0 to 942479\n",
      "Data columns (total 16 columns):\n",
      " #   Column             Non-Null Count   Dtype                                \n",
      "---  ------             --------------   -----                                \n",
      " 0   id                 942480 non-null  int64                                \n",
      " 1   record_timestamp   942480 non-null  datetime64[us, pytz.FixedOffset(120)]\n",
      " 2   stationcode        942480 non-null  object                               \n",
      " 3   ebike              942480 non-null  int64                                \n",
      " 4   mechanical         942480 non-null  int64                                \n",
      " 5   duedate            942480 non-null  object                               \n",
      " 6   numbikesavailable  942480 non-null  int64                                \n",
      " 7   numdocksavailable  942480 non-null  int64                                \n",
      " 8   capacity           942480 non-null  int64                                \n",
      " 9   is_renting         942480 non-null  object                               \n",
      " 10  is_installed       942480 non-null  object                               \n",
      " 11  is_returning       942480 non-null  object                               \n",
      " 12  name               942480 non-null  object                               \n",
      " 13  latitude           942480 non-null  float64                              \n",
      " 14  longitude          942480 non-null  float64                              \n",
      " 15  record_date        942480 non-null  datetime64[us]                       \n",
      "dtypes: datetime64[us, pytz.FixedOffset(120)](1), datetime64[us](1), float64(2), int64(6), object(6)\n",
      "memory usage: 115.0+ MB\n"
     ]
    }
   ],
   "source": [
    "import pandas as pd\n",
    "\n",
    "\n",
    "df = pd.read_parquet('2024-07-24.parquet')\n",
    "df.info()"
   ]
  },
  {
   "cell_type": "code",
   "execution_count": 4,
   "metadata": {},
   "outputs": [
    {
     "name": "stdout",
     "output_type": "stream",
     "text": [
      "<class 'pandas.core.frame.DataFrame'>\n",
      "RangeIndex: 46011157 entries, 0 to 46011156\n",
      "Data columns (total 16 columns):\n",
      " #   Column                       Dtype                  \n",
      "---  ------                       -----                  \n",
      " 0   id                           float64                \n",
      " 1   record_timestamp             datetime64[us, Etc/UTC]\n",
      " 2   stationcode                  object                 \n",
      " 3   ebike                        int64                  \n",
      " 4   mechanical                   int64                  \n",
      " 5   duedate                      object                 \n",
      " 6   numbikesavailable            int64                  \n",
      " 7   numdocksavailable            int64                  \n",
      " 8   capacity                     int64                  \n",
      " 9   is_renting                   object                 \n",
      " 10  is_installed                 object                 \n",
      " 11  is_returning                 object                 \n",
      " 12  name                         object                 \n",
      " 13  latitude                     float64                \n",
      " 14  longitude                    float64                \n",
      " 15  nom_arrondissement_communes  object                 \n",
      "dtypes: datetime64[us, Etc/UTC](1), float64(3), int64(5), object(7)\n",
      "memory usage: 5.5+ GB\n"
     ]
    }
   ],
   "source": [
    "import duckdb\n",
    "\n",
    "\n",
    "\n",
    "df = pd.read_parquet('merged_data.parquet')\n",
    "df.info()"
   ]
  }
 ],
 "metadata": {
  "kernelspec": {
   "display_name": "sentiment-analysis-api-with-fastapi-RhkKRqZ7-py3.11",
   "language": "python",
   "name": "python3"
  },
  "language_info": {
   "codemirror_mode": {
    "name": "ipython",
    "version": 3
   },
   "file_extension": ".py",
   "mimetype": "text/x-python",
   "name": "python",
   "nbconvert_exporter": "python",
   "pygments_lexer": "ipython3",
   "version": "3.10.14"
  }
 },
 "nbformat": 4,
 "nbformat_minor": 2
}
