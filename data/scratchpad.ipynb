{
 "cells": [
  {
   "cell_type": "code",
   "execution_count": 2,
   "metadata": {},
   "outputs": [
    {
     "name": "stdout",
     "output_type": "stream",
     "text": [
      "/home/mln/GIT/0_EXPLORE/github/astronomer-codespaces-test/data\n"
     ]
    }
   ],
   "source": [
    "!pwd"
   ]
  },
  {
   "cell_type": "code",
   "execution_count": 7,
   "metadata": {},
   "outputs": [
    {
     "name": "stdout",
     "output_type": "stream",
     "text": [
      "<class 'pandas.core.frame.DataFrame'>\n",
      "RangeIndex: 942480 entries, 0 to 942479\n",
      "Data columns (total 16 columns):\n",
      " #   Column             Non-Null Count   Dtype                                \n",
      "---  ------             --------------   -----                                \n",
      " 0   id                 942480 non-null  int64                                \n",
      " 1   record_timestamp   942480 non-null  datetime64[us, pytz.FixedOffset(120)]\n",
      " 2   stationcode        942480 non-null  object                               \n",
      " 3   ebike              942480 non-null  int64                                \n",
      " 4   mechanical         942480 non-null  int64                                \n",
      " 5   duedate            942480 non-null  object                               \n",
      " 6   numbikesavailable  942480 non-null  int64                                \n",
      " 7   numdocksavailable  942480 non-null  int64                                \n",
      " 8   capacity           942480 non-null  int64                                \n",
      " 9   is_renting         942480 non-null  object                               \n",
      " 10  is_installed       942480 non-null  object                               \n",
      " 11  is_returning       942480 non-null  object                               \n",
      " 12  name               942480 non-null  object                               \n",
      " 13  latitude           942480 non-null  float64                              \n",
      " 14  longitude          942480 non-null  float64                              \n",
      " 15  record_date        942480 non-null  datetime64[us]                       \n",
      "dtypes: datetime64[us, pytz.FixedOffset(120)](1), datetime64[us](1), float64(2), int64(6), object(6)\n",
      "memory usage: 115.0+ MB\n"
     ]
    }
   ],
   "source": [
    "import pandas as pd\n",
    "\n",
    "\n",
    "df = pd.read_parquet('2024-07-24.parquet')\n",
    "df.info()"
   ]
  },
  {
   "cell_type": "code",
   "execution_count": 10,
   "metadata": {},
   "outputs": [
    {
     "name": "stdout",
     "output_type": "stream",
     "text": [
      "<class 'pandas.core.frame.DataFrame'>\n",
      "RangeIndex: 863464 entries, 0 to 863463\n",
      "Data columns (total 16 columns):\n",
      " #   Column                       Non-Null Count   Dtype                                \n",
      "---  ------                       --------------   -----                                \n",
      " 0   id                           0 non-null       float64                              \n",
      " 1   record_timestamp             863464 non-null  datetime64[us, pytz.FixedOffset(120)]\n",
      " 2   stationcode                  863464 non-null  object                               \n",
      " 3   ebike                        863464 non-null  int64                                \n",
      " 4   mechanical                   863464 non-null  int64                                \n",
      " 5   duedate                      863464 non-null  object                               \n",
      " 6   numbikesavailable            863464 non-null  int64                                \n",
      " 7   numdocksavailable            863464 non-null  int64                                \n",
      " 8   capacity                     863464 non-null  int64                                \n",
      " 9   is_renting                   863464 non-null  object                               \n",
      " 10  is_installed                 863464 non-null  object                               \n",
      " 11  is_returning                 863464 non-null  object                               \n",
      " 12  name                         859950 non-null  object                               \n",
      " 13  latitude                     859950 non-null  float64                              \n",
      " 14  longitude                    859950 non-null  float64                              \n",
      " 15  nom_arrondissement_communes  859950 non-null  object                               \n",
      "dtypes: datetime64[us, pytz.FixedOffset(120)](1), float64(3), int64(5), object(7)\n",
      "memory usage: 105.4+ MB\n"
     ]
    }
   ],
   "source": [
    "import pandas as pd\n",
    "\n",
    "\n",
    "df = pd.read_parquet('2024-06-04.parquet')\n",
    "df.info()"
   ]
  },
  {
   "cell_type": "code",
   "execution_count": 5,
   "metadata": {},
   "outputs": [
    {
     "name": "stdout",
     "output_type": "stream",
     "text": [
      "<class 'pandas.core.frame.DataFrame'>\n",
      "RangeIndex: 46581312 entries, 0 to 46581311\n",
      "Data columns (total 12 columns):\n",
      " #   Column             Dtype  \n",
      "---  ------             -----  \n",
      " 0   id                 float64\n",
      " 1   record_timestamp   object \n",
      " 2   stationcode        object \n",
      " 3   ebike              int64  \n",
      " 4   mechanical         int64  \n",
      " 5   duedate            object \n",
      " 6   numbikesavailable  int64  \n",
      " 7   numdocksavailable  int64  \n",
      " 8   capacity           int64  \n",
      " 9   is_renting         object \n",
      " 10  is_installed       object \n",
      " 11  is_returning       object \n",
      "dtypes: float64(1), int64(5), object(6)\n",
      "memory usage: 4.2+ GB\n"
     ]
    }
   ],
   "source": [
    "import pandas as pd\n",
    "\n",
    "\n",
    "\n",
    "df = pd.read_parquet('stations_migration.parquet')\n",
    "df.info()"
   ]
  },
  {
   "cell_type": "code",
   "execution_count": 8,
   "metadata": {},
   "outputs": [
    {
     "name": "stdout",
     "output_type": "stream",
     "text": [
      "<class 'pandas.core.frame.DataFrame'>\n",
      "RangeIndex: 1496 entries, 0 to 1495\n",
      "Data columns (total 5 columns):\n",
      " #   Column                       Non-Null Count  Dtype  \n",
      "---  ------                       --------------  -----  \n",
      " 0   stationcode                  1496 non-null   object \n",
      " 1   name                         1496 non-null   object \n",
      " 2   latitude                     1496 non-null   float64\n",
      " 3   longitude                    1496 non-null   float64\n",
      " 4   nom_arrondissement_communes  1496 non-null   object \n",
      "dtypes: float64(2), object(3)\n",
      "memory usage: 58.6+ KB\n"
     ]
    }
   ],
   "source": [
    "import pandas as pd\n",
    "\n",
    "\n",
    "\n",
    "df = pd.read_parquet('locations_backup.parquet')\n",
    "df.info()"
   ]
  }
 ],
 "metadata": {
  "kernelspec": {
   "display_name": "sentiment-analysis-api-with-fastapi-RhkKRqZ7-py3.11",
   "language": "python",
   "name": "python3"
  },
  "language_info": {
   "codemirror_mode": {
    "name": "ipython",
    "version": 3
   },
   "file_extension": ".py",
   "mimetype": "text/x-python",
   "name": "python",
   "nbconvert_exporter": "python",
   "pygments_lexer": "ipython3",
   "version": "3.10.14"
  }
 },
 "nbformat": 4,
 "nbformat_minor": 2
}
