{
 "cells": [
  {
   "cell_type": "code",
   "execution_count": 2,
   "metadata": {},
   "outputs": [
    {
     "name": "stdout",
     "output_type": "stream",
     "text": [
      "/home/mln/GIT/0_EXPLORE/github/astronomer-codespaces-test/data\n"
     ]
    }
   ],
   "source": [
    "!pwd"
   ]
  },
  {
   "cell_type": "code",
   "execution_count": 3,
   "metadata": {},
   "outputs": [
    {
     "name": "stdout",
     "output_type": "stream",
     "text": [
      "<class 'pandas.core.frame.DataFrame'>\n",
      "RangeIndex: 1446632 entries, 0 to 1446631\n",
      "Data columns (total 16 columns):\n",
      " #   Column                       Non-Null Count    Dtype  \n",
      "---  ------                       --------------    -----  \n",
      " 0   stationcode                  1446632 non-null  int64  \n",
      " 1   name                         1446632 non-null  object \n",
      " 2   latitude                     1446632 non-null  float64\n",
      " 3   longitude                    1446632 non-null  float64\n",
      " 4   nom_arrondissement_communes  1446632 non-null  object \n",
      " 5   id                           1446632 non-null  int64  \n",
      " 6   record_timestamp             1446632 non-null  object \n",
      " 7   ebike                        1446632 non-null  int64  \n",
      " 8   mechanical                   1446632 non-null  int64  \n",
      " 9   duedate                      1446632 non-null  object \n",
      " 10  numbikesavailable            1446632 non-null  int64  \n",
      " 11  numdocksavailable            1446632 non-null  int64  \n",
      " 12  capacity                     1446632 non-null  int64  \n",
      " 13  is_renting                   1446632 non-null  object \n",
      " 14  is_installed                 1446632 non-null  object \n",
      " 15  is_returning                 1446632 non-null  object \n",
      "dtypes: float64(2), int64(7), object(7)\n",
      "memory usage: 176.6+ MB\n"
     ]
    }
   ],
   "source": [
    "import pandas as pd\n",
    "\n",
    "\n",
    "df = pd.read_csv('unified_data.csv')\n",
    "df.info()"
   ]
  }
 ],
 "metadata": {
  "kernelspec": {
   "display_name": "sentiment-analysis-api-with-fastapi-RhkKRqZ7-py3.11",
   "language": "python",
   "name": "python3"
  },
  "language_info": {
   "codemirror_mode": {
    "name": "ipython",
    "version": 3
   },
   "file_extension": ".py",
   "mimetype": "text/x-python",
   "name": "python",
   "nbconvert_exporter": "python",
   "pygments_lexer": "ipython3",
   "version": "3.10.14"
  }
 },
 "nbformat": 4,
 "nbformat_minor": 2
}
